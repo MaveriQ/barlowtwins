{
 "cells": [
  {
   "cell_type": "code",
   "execution_count": null,
   "id": "78a7f51b-b751-4036-b0d0-35d2ec748569",
   "metadata": {},
   "outputs": [],
   "source": [
    "import transformers\n",
    "import torch\n",
    "import datasets\n",
    "import pdb"
   ]
  },
  {
   "cell_type": "code",
   "execution_count": null,
   "id": "671ab7ac-9210-48f4-854e-747841468fd7",
   "metadata": {},
   "outputs": [],
   "source": [
    "config = transformers.CONFIG_MAPPING['bert']().from_pretrained('bert-base-uncased')"
   ]
  },
  {
   "cell_type": "code",
   "execution_count": null,
   "id": "fa1c1034-35e8-4d0d-9ef8-e2d202443f35",
   "metadata": {},
   "outputs": [],
   "source": [
    "bert = transformers.BertModel(config, add_pooling_layer=False).from_pretrained('bert-base-uncased')"
   ]
  },
  {
   "cell_type": "code",
   "execution_count": null,
   "id": "34131735-b9af-479f-9b30-06a77797c004",
   "metadata": {},
   "outputs": [],
   "source": [
    "corpus = datasets.load_dataset('bookcorpus',split='train')"
   ]
  },
  {
   "cell_type": "code",
   "execution_count": null,
   "id": "a5178618-6810-4c7d-8955-c9e5c08859be",
   "metadata": {},
   "outputs": [],
   "source": [
    "tokenizer = transformers.BertTokenizerFast.from_pretrained('bert-base-uncased')"
   ]
  },
  {
   "cell_type": "code",
   "execution_count": null,
   "id": "618bdbbc-8151-4291-bc2b-de6641714e80",
   "metadata": {},
   "outputs": [],
   "source": [
    "mini_tokenized = corpus.select(range(16)).map(lambda e: tokenizer(e['text'],truncation=True,padding='max_length',max_length=128),remove_columns=['text'])"
   ]
  },
  {
   "cell_type": "code",
   "execution_count": null,
   "id": "84c96885-d1ec-4a19-8e81-6ed664480d61",
   "metadata": {},
   "outputs": [],
   "source": [
    "mini_tokenized.set_format('torch')"
   ]
  },
  {
   "cell_type": "code",
   "execution_count": null,
   "id": "98ae769d-ffcd-490c-8913-905f4f065bb9",
   "metadata": {},
   "outputs": [],
   "source": [
    "mini_tokenized"
   ]
  },
  {
   "cell_type": "code",
   "execution_count": null,
   "id": "0a351444-8076-4916-8e07-0ea64d7ba667",
   "metadata": {},
   "outputs": [],
   "source": [
    "output = bert(input_ids = mini_tokenized['input_ids'],\n",
    "             attention_mask = mini_tokenized['attention_mask'],\n",
    "             output_hidden_states=True,\n",
    "             output_attentions=True\n",
    "             )"
   ]
  },
  {
   "cell_type": "code",
   "execution_count": null,
   "id": "b9c58324-8e32-4d8c-8151-ef5b85f563d0",
   "metadata": {},
   "outputs": [],
   "source": [
    "output.hidden_states[0].shape"
   ]
  },
  {
   "cell_type": "code",
   "execution_count": null,
   "id": "7042abee-2310-4596-8111-54e5699e48fa",
   "metadata": {},
   "outputs": [],
   "source": [
    "len(output.attentions)"
   ]
  },
  {
   "cell_type": "code",
   "execution_count": null,
   "id": "a2798778-e107-4ed6-b96f-fcab6d92f9e3",
   "metadata": {},
   "outputs": [],
   "source": [
    "output.attentions[0].shape"
   ]
  },
  {
   "cell_type": "code",
   "execution_count": null,
   "id": "c6f9c17a-a9de-49ed-89c2-4c992502e5d8",
   "metadata": {},
   "outputs": [],
   "source": [
    "output.keys()"
   ]
  },
  {
   "cell_type": "code",
   "execution_count": null,
   "id": "ac9b7a01-3953-4280-8915-711aba411972",
   "metadata": {
    "tags": []
   },
   "outputs": [],
   "source": [
    "output.hidden_states[-3:]"
   ]
  },
  {
   "cell_type": "code",
   "execution_count": null,
   "id": "3212cae3-b0c2-4fc7-9fd7-7cdefbc6b96b",
   "metadata": {},
   "outputs": [],
   "source": [
    "torch.cat(output.hidden_states[-3:]).shape"
   ]
  },
  {
   "cell_type": "code",
   "execution_count": null,
   "id": "2080aff6-fbc5-42d8-a3eb-3798e7f0f63d",
   "metadata": {},
   "outputs": [],
   "source": [
    "out_stacked = torch.stack(output.hidden_states)"
   ]
  },
  {
   "cell_type": "code",
   "execution_count": null,
   "id": "42a51ce9-2abd-4e0e-8e2a-f972efffb9f9",
   "metadata": {},
   "outputs": [],
   "source": [
    "out_stacked.shape"
   ]
  },
  {
   "cell_type": "code",
   "execution_count": null,
   "id": "b51ccc2e-4cd2-4497-8a60-c058098d0793",
   "metadata": {},
   "outputs": [],
   "source": [
    "out_stacked.transpose(0,1).transpose(2,3).shape"
   ]
  },
  {
   "cell_type": "code",
   "execution_count": null,
   "id": "c3e5b6b7-07f7-45db-aa1f-d0866bb1bf24",
   "metadata": {},
   "outputs": [],
   "source": [
    "out_stacked.permute(1, 0, 3, 2).shape"
   ]
  },
  {
   "cell_type": "code",
   "execution_count": null,
   "id": "5823f2d2-aa95-40da-acd6-772d324cdcc1",
   "metadata": {},
   "outputs": [],
   "source": [
    "out_stacked.reshape(16,-1,128).shape"
   ]
  },
  {
   "cell_type": "code",
   "execution_count": null,
   "id": "f2e409c2-0c72-4355-8455-0b2428751c01",
   "metadata": {},
   "outputs": [],
   "source": [
    "filt1 = torch.nn.Conv1d(in_channels=9984, out_channels=12, kernel_size=1)"
   ]
  },
  {
   "cell_type": "code",
   "execution_count": null,
   "id": "0fd69a93-7e43-4998-8e59-4460117a41ab",
   "metadata": {},
   "outputs": [],
   "source": [
    "filtered = filt1(out_stacked.reshape(16,-1,128))"
   ]
  },
  {
   "cell_type": "code",
   "execution_count": null,
   "id": "9af88716-23b5-4f98-9221-f077f0c63c82",
   "metadata": {},
   "outputs": [],
   "source": [
    "filtered.shape"
   ]
  },
  {
   "cell_type": "code",
   "execution_count": null,
   "id": "2f3cb227-dad4-4c96-8ecb-c5b6b5cc47fe",
   "metadata": {},
   "outputs": [],
   "source": [
    "attn_mask = mini_tokenized['attention_mask'].unsqueeze(1).expand_as(filtered)"
   ]
  },
  {
   "cell_type": "code",
   "execution_count": null,
   "id": "de58fb86-adf5-4817-94ab-514922440438",
   "metadata": {
    "tags": []
   },
   "outputs": [],
   "source": [
    "attn_mask"
   ]
  },
  {
   "cell_type": "code",
   "execution_count": null,
   "id": "af68c265-870a-4daa-ba17-e373acec8d75",
   "metadata": {},
   "outputs": [],
   "source": [
    "(filtered*attn_mask).shape"
   ]
  },
  {
   "cell_type": "code",
   "execution_count": null,
   "id": "17a0d6e2-0612-4a66-9a81-dd44df8d9674",
   "metadata": {},
   "outputs": [],
   "source": [
    "a = torch.randn(32, 100, 20)  \n",
    "m = torch.nn.Conv1d(100, 10, 1) \n",
    "out = m(a)\n",
    "print(out.size())\n",
    "print(m)"
   ]
  },
  {
   "cell_type": "code",
   "execution_count": null,
   "id": "adf9e7eb-7808-400e-ab6f-95958e952c74",
   "metadata": {},
   "outputs": [],
   "source": [
    "class ConvLayers(torch.nn.Module):\n",
    "    def __init__(self,bert_layers,hidden_dim,channels_list):#args,config):\n",
    "        super().__init__()\n",
    "        \n",
    "        self.hidden_dim = hidden_dim\n",
    "        self.out_channels = channels_list\n",
    "        self.bert_layers = bert_layers\n",
    "        \n",
    "        in_channels = bert_layers * hidden_dim\n",
    "        out_channels = channels_list[0]\n",
    "        self.layer1 = torch.nn.Conv1d(in_channels=in_channels, out_channels=out_channels, kernel_size=1)\n",
    "        \n",
    "        in_channels = out_channels\n",
    "        out_channels = channels_list[1]\n",
    "        self.layer2 = torch.nn.Conv1d(in_channels=in_channels, out_channels=out_channels, kernel_size=1)\n",
    "        \n",
    "    def forward(self,bert_output,attention_mask):\n",
    "#         pdb.set_trace()\n",
    "        bs = bert_output[0].shape[0]\n",
    "        seq_len = bert_output[0].shape[1]\n",
    "        \n",
    "        stacked = torch.stack(bert_output.hidden_states[-self.bert_layers:])\n",
    "\n",
    "        permuted = stacked.permute(1, 0, 3, 2) # swap batch_size with num_layers and hidden_size with seq_len\n",
    "        \n",
    "        input_to_convlayer = permuted.reshape(bs,-1,seq_len) # merge num_layers and seq_len\n",
    "        \n",
    "        out_layer1 = self.layer1(input_to_convlayer)\n",
    "        out_layer2 = self.layer2(out_layer1)\n",
    "        \n",
    "        attn_mask = attention_mask.unsqueeze(1).expand_as(out_layer2)\n",
    "        \n",
    "        return out_layer2*attn_mask"
   ]
  },
  {
   "cell_type": "code",
   "execution_count": null,
   "id": "19c1bb8b-c17c-4f8f-8cda-850a23f816c1",
   "metadata": {},
   "outputs": [],
   "source": [
    "class GeneralConvLayers(torch.nn.Module):\n",
    "    def __init__(self,bert_layers,hidden_dim,channels_list):#args,config):\n",
    "        super().__init__()\n",
    "        \n",
    "        self.hidden_dim = hidden_dim\n",
    "        self.out_channels = channels_list\n",
    "        self.bert_layers = bert_layers\n",
    "        \n",
    "        in_channels = bert_layers * hidden_dim\n",
    "        out_channels = channels_list[0]\n",
    "        self.layer1 = torch.nn.Conv1d(in_channels=in_channels, out_channels=out_channels, kernel_size=1)\n",
    "        \n",
    "        in_channels = out_channels\n",
    "        out_channels = channels_list[1]\n",
    "        self.layer2 = torch.nn.Conv1d(in_channels=in_channels, out_channels=out_channels, kernel_size=1)\n",
    "        \n",
    "    def forward(self,bert_output,attention_mask):\n",
    "        pdb.set_trace()\n",
    "        bs = bert_output[0].shape[0]\n",
    "        seq_len = bert_output[0].shape[1]\n",
    "        \n",
    "        stacked = torch.stack(bert_output.hidden_states[-self.bert_layers:])\n",
    "\n",
    "        permuted = stacked.permute(1, 0, 3, 2) # swap batch_size with num_layers and hidden_size with seq_len\n",
    "        \n",
    "        input_to_convlayer = permuted.reshape(bs,-1,seq_len) # merge num_layers and seq_len\n",
    "        \n",
    "        out_layer1 = self.layer1(input_to_convlayer)\n",
    "        out_layer2 = self.layer2(out_layer1)\n",
    "        \n",
    "        attn_mask = attention_mask.unsqueeze(1).expand_as(out_layer2)\n",
    "        \n",
    "        return out_layer2*attn_mask"
   ]
  },
  {
   "cell_type": "code",
   "execution_count": null,
   "id": "cd512dab-e6c2-4130-b74e-61e6d5fb67bd",
   "metadata": {},
   "outputs": [],
   "source": [
    "layer = ConvLayers(13,768,[512,256])"
   ]
  },
  {
   "cell_type": "code",
   "execution_count": null,
   "id": "4d554c76-764e-4a2e-b5b5-398be2191cef",
   "metadata": {},
   "outputs": [],
   "source": [
    "layer(output,mini_tokenized['attention_mask']).shape"
   ]
  },
  {
   "cell_type": "code",
   "execution_count": null,
   "id": "ee3defc6-c7e3-4d28-8563-547d43b1340e",
   "metadata": {},
   "outputs": [],
   "source": []
  }
 ],
 "metadata": {
  "kernelspec": {
   "display_name": "Python 3",
   "language": "python",
   "name": "python3"
  },
  "language_info": {
   "codemirror_mode": {
    "name": "ipython",
    "version": 3
   },
   "file_extension": ".py",
   "mimetype": "text/x-python",
   "name": "python",
   "nbconvert_exporter": "python",
   "pygments_lexer": "ipython3",
   "version": "3.8.10"
  }
 },
 "nbformat": 4,
 "nbformat_minor": 5
}
