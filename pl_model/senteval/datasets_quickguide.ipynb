{
 "cells": [
  {
   "cell_type": "code",
   "execution_count": 1,
   "id": "93ab53f7-ed83-44bd-9dc9-a16a5ef8738d",
   "metadata": {},
   "outputs": [],
   "source": [
    "from datasets import load_dataset, list_datasets\n",
    "import transformers\n",
    "import torch"
   ]
  },
  {
   "cell_type": "code",
   "execution_count": 2,
   "id": "2eb94962-d538-47b3-a34a-96aa57ae5332",
   "metadata": {},
   "outputs": [
    {
     "name": "stderr",
     "output_type": "stream",
     "text": [
      "Reusing dataset bookcorpus (/mounts/data/corp/huggingface/datasets/bookcorpus/plain_text/1.0.0/44662c4a114441c35200992bea923b170e6f13f2f0beb7c14e43759cec498700)\n"
     ]
    }
   ],
   "source": [
    "books = load_dataset('bookcorpus',split='train')"
   ]
  },
  {
   "cell_type": "code",
   "execution_count": 3,
   "id": "98eaf591-619b-4a8a-8181-fefeb267e57f",
   "metadata": {},
   "outputs": [
    {
     "name": "stderr",
     "output_type": "stream",
     "text": [
      "Some weights of the model checkpoint at bert-base-uncased were not used when initializing BertModel: ['cls.predictions.decoder.weight', 'cls.seq_relationship.bias', 'cls.predictions.transform.LayerNorm.bias', 'cls.predictions.transform.LayerNorm.weight', 'cls.seq_relationship.weight', 'cls.predictions.transform.dense.weight', 'cls.predictions.bias', 'cls.predictions.transform.dense.bias']\n",
      "- This IS expected if you are initializing BertModel from the checkpoint of a model trained on another task or with another architecture (e.g. initializing a BertForSequenceClassification model from a BertForPreTraining model).\n",
      "- This IS NOT expected if you are initializing BertModel from the checkpoint of a model that you expect to be exactly identical (initializing a BertForSequenceClassification model from a BertForSequenceClassification model).\n"
     ]
    }
   ],
   "source": [
    "model = transformers.BertModel.from_pretrained('bert-base-uncased')"
   ]
  },
  {
   "cell_type": "code",
   "execution_count": 4,
   "id": "30ca0314-b230-47f5-9c81-b8dad8b8e725",
   "metadata": {},
   "outputs": [],
   "source": [
    "tokenizer = transformers.BertTokenizerFast.from_pretrained('bert-base-uncased')"
   ]
  },
  {
   "cell_type": "code",
   "execution_count": 5,
   "id": "b11dd305-0bb8-4075-82d7-e0c8b80fd72f",
   "metadata": {},
   "outputs": [],
   "source": [
    "mini = books.select(range(1000)) # small slice of dataset for testing"
   ]
  },
  {
   "cell_type": "code",
   "execution_count": 6,
   "id": "cc2bdb3d-6e0d-4c75-b7e1-773238f2b113",
   "metadata": {},
   "outputs": [
    {
     "name": "stderr",
     "output_type": "stream",
     "text": [
      "Loading cached processed dataset at /mounts/data/corp/huggingface/datasets/bookcorpus/plain_text/1.0.0/44662c4a114441c35200992bea923b170e6f13f2f0beb7c14e43759cec498700/cache-32c445a4783b1cce.arrow\n"
     ]
    }
   ],
   "source": [
    "tokenized = mini.map(lambda e: tokenizer(e['text'],truncation=True,padding='max_length'),remove_columns=['text']) # remember to add padding to have all tokenizations of same length"
   ]
  },
  {
   "cell_type": "code",
   "execution_count": 7,
   "id": "a3bac921-1ea5-4341-9ebd-703bfe395883",
   "metadata": {},
   "outputs": [],
   "source": [
    "tokenized.set_format('torch') #set tensors to pytorch format. Remember to drop 'text' column before you do this"
   ]
  },
  {
   "cell_type": "code",
   "execution_count": 8,
   "id": "3a870ea8-cadb-4c73-a8f4-998a9b98c77f",
   "metadata": {},
   "outputs": [],
   "source": [
    "dataloader = torch.utils.data.DataLoader(tokenized,batch_size=8)"
   ]
  },
  {
   "cell_type": "code",
   "execution_count": 9,
   "id": "af49833f-8e31-45de-ad6d-62c7e723f412",
   "metadata": {},
   "outputs": [],
   "source": [
    "batch = next(iter(dataloader))"
   ]
  },
  {
   "cell_type": "code",
   "execution_count": 10,
   "id": "632c6583-6425-47c5-a960-20f39003e463",
   "metadata": {},
   "outputs": [],
   "source": [
    "output = model(**batch)"
   ]
  },
  {
   "cell_type": "code",
   "execution_count": 11,
   "id": "2063fe6f-24cd-42cf-a971-e86a266b0c72",
   "metadata": {},
   "outputs": [
    {
     "data": {
      "text/plain": [
       "torch.Size([8, 512, 768])"
      ]
     },
     "execution_count": 11,
     "metadata": {},
     "output_type": "execute_result"
    }
   ],
   "source": [
    "output.last_hidden_state.shape"
   ]
  },
  {
   "cell_type": "code",
   "execution_count": 12,
   "id": "77fb34bc-d9bd-4d8b-a200-68c5497875cf",
   "metadata": {},
   "outputs": [],
   "source": [
    "sentence_embedding = output.last_hidden_state.mean(1) #taking the mean of tokens to get sentence embedding"
   ]
  },
  {
   "cell_type": "code",
   "execution_count": 13,
   "id": "e42886bc-0f80-48e9-b049-98d2578800b1",
   "metadata": {},
   "outputs": [
    {
     "data": {
      "text/plain": [
       "torch.Size([8, 768])"
      ]
     },
     "execution_count": 13,
     "metadata": {},
     "output_type": "execute_result"
    }
   ],
   "source": [
    "sentence_embedding.shape"
   ]
  },
  {
   "cell_type": "code",
   "execution_count": null,
   "id": "c78eda29-af8a-4966-a5aa-353d810ca44d",
   "metadata": {},
   "outputs": [],
   "source": []
  }
 ],
 "metadata": {
  "kernelspec": {
   "display_name": "Python 3",
   "language": "python",
   "name": "python3"
  },
  "language_info": {
   "codemirror_mode": {
    "name": "ipython",
    "version": 3
   },
   "file_extension": ".py",
   "mimetype": "text/x-python",
   "name": "python",
   "nbconvert_exporter": "python",
   "pygments_lexer": "ipython3",
   "version": "3.8.10"
  }
 },
 "nbformat": 4,
 "nbformat_minor": 5
}
