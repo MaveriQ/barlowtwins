{
 "cells": [
  {
   "cell_type": "code",
   "execution_count": 26,
   "id": "2a4bc7dc-7c26-4348-81b6-ccb6c58c8a1d",
   "metadata": {},
   "outputs": [],
   "source": [
    "import torch\n",
    "from transformers.models.bert.modeling_bert import BertAttention\n",
    "from transformers import CONFIG_MAPPING, BertTokenizer, BertModel\n",
    "from datasets import load_from_disk"
   ]
  },
  {
   "cell_type": "code",
   "execution_count": 50,
   "id": "8b6e1090-e127-4482-9f6d-1df82a2667a7",
   "metadata": {},
   "outputs": [],
   "source": [
    "config = CONFIG_MAPPING['bert'].from_pretrained('bert-base-uncased')"
   ]
  },
  {
   "cell_type": "code",
   "execution_count": 37,
   "id": "299a54b2-af28-41c3-ade0-c2e8832ca948",
   "metadata": {},
   "outputs": [],
   "source": [
    "config.output_attentions=True"
   ]
  },
  {
   "cell_type": "code",
   "execution_count": 51,
   "id": "45c569d4-0341-4635-bc42-7bf5bc5193bc",
   "metadata": {},
   "outputs": [
    {
     "data": {
      "text/plain": [
       "False"
      ]
     },
     "execution_count": 51,
     "metadata": {},
     "output_type": "execute_result"
    }
   ],
   "source": [
    "config.output_attentions"
   ]
  },
  {
   "cell_type": "code",
   "execution_count": 52,
   "id": "c26b2298-0c8c-42cc-bf1f-f59eef29de93",
   "metadata": {},
   "outputs": [],
   "source": [
    "atten = BertAttention(config)"
   ]
  },
  {
   "cell_type": "code",
   "execution_count": 53,
   "id": "4fcae742-4ecd-4cc6-bdfb-c727c5ecd512",
   "metadata": {},
   "outputs": [],
   "source": [
    "inp = torch.rand(2,128,768)"
   ]
  },
  {
   "cell_type": "code",
   "execution_count": 58,
   "id": "67aedcca-c2aa-41da-beba-bf9b3e3bae68",
   "metadata": {},
   "outputs": [],
   "source": [
    "atten_out = atten(inp,output_attentions=False)"
   ]
  },
  {
   "cell_type": "code",
   "execution_count": 59,
   "id": "211f0e6e-dcc6-4e03-81fc-f5bb44ee4b6c",
   "metadata": {},
   "outputs": [
    {
     "data": {
      "text/plain": [
       "torch.Size([2, 128, 768])"
      ]
     },
     "execution_count": 59,
     "metadata": {},
     "output_type": "execute_result"
    }
   ],
   "source": [
    "atten_out[0].shape"
   ]
  },
  {
   "cell_type": "code",
   "execution_count": 27,
   "id": "439e5801-54be-49c1-9b5c-ff2afbf2a0bc",
   "metadata": {},
   "outputs": [],
   "source": [
    "corpus = load_from_disk('/mounts/data/proj/jabbar/barlowbert/bookcorpus_20mil_128/')"
   ]
  },
  {
   "cell_type": "code",
   "execution_count": 31,
   "id": "2d3cd1f8-e0f2-4365-afb1-e585ffbe748c",
   "metadata": {},
   "outputs": [],
   "source": [
    "corpus.set_format('pt')"
   ]
  },
  {
   "cell_type": "code",
   "execution_count": 20,
   "id": "acf608c0-cc93-4bd6-9fab-03acabceb921",
   "metadata": {},
   "outputs": [
    {
     "name": "stderr",
     "output_type": "stream",
     "text": [
      "Some weights of the model checkpoint at bert-base-uncased were not used when initializing BertModel: ['cls.predictions.transform.dense.weight', 'cls.predictions.transform.LayerNorm.weight', 'cls.predictions.bias', 'cls.predictions.decoder.weight', 'cls.seq_relationship.weight', 'cls.predictions.transform.LayerNorm.bias', 'cls.predictions.transform.dense.bias', 'cls.seq_relationship.bias']\n",
      "- This IS expected if you are initializing BertModel from the checkpoint of a model trained on another task or with another architecture (e.g. initializing a BertForSequenceClassification model from a BertForPreTraining model).\n",
      "- This IS NOT expected if you are initializing BertModel from the checkpoint of a model that you expect to be exactly identical (initializing a BertForSequenceClassification model from a BertForSequenceClassification model).\n"
     ]
    }
   ],
   "source": [
    "model = BertModel.from_pretrained('bert-base-uncased')"
   ]
  },
  {
   "cell_type": "code",
   "execution_count": 34,
   "id": "073850ff-fe24-4196-9976-25784d00c4f8",
   "metadata": {},
   "outputs": [],
   "source": [
    "bert_output = model(**corpus[:4])"
   ]
  },
  {
   "cell_type": "code",
   "execution_count": 35,
   "id": "7a277f3d-35da-4fbf-b92f-3d5d0674f0ba",
   "metadata": {},
   "outputs": [
    {
     "data": {
      "text/plain": [
       "torch.Size([4, 128, 768])"
      ]
     },
     "execution_count": 35,
     "metadata": {},
     "output_type": "execute_result"
    }
   ],
   "source": [
    "bert_output.last_hidden_state.shape"
   ]
  },
  {
   "cell_type": "code",
   "execution_count": null,
   "id": "d7f986be-8fda-4e8a-a2f6-3e4a3430ac29",
   "metadata": {},
   "outputs": [],
   "source": []
  }
 ],
 "metadata": {
  "kernelspec": {
   "display_name": "Python 3",
   "language": "python",
   "name": "python3"
  },
  "language_info": {
   "codemirror_mode": {
    "name": "ipython",
    "version": 3
   },
   "file_extension": ".py",
   "mimetype": "text/x-python",
   "name": "python",
   "nbconvert_exporter": "python",
   "pygments_lexer": "ipython3",
   "version": "3.8.10"
  }
 },
 "nbformat": 4,
 "nbformat_minor": 5
}
