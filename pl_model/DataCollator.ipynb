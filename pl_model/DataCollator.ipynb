{
 "cells": [
  {
   "cell_type": "code",
   "execution_count": 1,
   "id": "323119d4-376d-4039-8c45-d0b6ea038932",
   "metadata": {},
   "outputs": [],
   "source": [
    "from barlowbert_dm import DataCollatorForBarlowBertWithMLM\n",
    "from barlowbert_models import BarlowBert\n",
    "from transformers import BertTokenizerFast\n",
    "\n",
    "from datasets import load_dataset, load_from_disk, concatenate_datasets\n",
    "import torch\n",
    "from tqdm import tqdm"
   ]
  },
  {
   "cell_type": "code",
   "execution_count": 2,
   "id": "6d05d028-f528-4428-905b-dfb4b4f82bdb",
   "metadata": {},
   "outputs": [],
   "source": [
    "tokenizer = BertTokenizerFast.from_pretrained('bert-base-uncased', padding=True,truncation=True,)\n",
    "collator = DataCollatorForBarlowBertWithMLM(tokenizer,mlm_probability=0.0)"
   ]
  },
  {
   "cell_type": "code",
   "execution_count": 3,
   "id": "7eb16388-36f0-465e-89be-48d0a1a12ce6",
   "metadata": {},
   "outputs": [
    {
     "data": {
      "text/plain": [
       "{'input_ids': tensor([[  101,  1045,  2572, 21291,  2015,   102,     0,     0,     0,     0,\n",
       "             0,     0,     0,     0,     0,     0,     0,     0,     0,     0,\n",
       "             0,     0,     0,     0,     0,     0,     0,     0,     0,     0,\n",
       "             0,     0]]), 'token_type_ids': tensor([[0, 0, 0, 0, 0, 0, 0, 0, 0, 0, 0, 0, 0, 0, 0, 0, 0, 0, 0, 0, 0, 0, 0, 0,\n",
       "         0, 0, 0, 0, 0, 0, 0, 0]]), 'attention_mask': tensor([[1, 1, 1, 1, 1, 1, 0, 0, 0, 0, 0, 0, 0, 0, 0, 0, 0, 0, 0, 0, 0, 0, 0, 0,\n",
       "         0, 0, 0, 0, 0, 0, 0, 0]])}"
      ]
     },
     "execution_count": 3,
     "metadata": {},
     "output_type": "execute_result"
    }
   ],
   "source": [
    "tokenizer.encode_plus('i am haris',truncation=True,padding='max_length',max_length=32,return_tensors='pt')"
   ]
  },
  {
   "cell_type": "code",
   "execution_count": 4,
   "id": "1577acfe-839e-4f52-ba4e-6230e8badafe",
   "metadata": {},
   "outputs": [
    {
     "name": "stderr",
     "output_type": "stream",
     "text": [
      "Reusing dataset bookcorpus (/mounts/data/corp/huggingface/datasets/bookcorpus/plain_text/1.0.0/44662c4a114441c35200992bea923b170e6f13f2f0beb7c14e43759cec498700)\n"
     ]
    }
   ],
   "source": [
    "corpus = load_dataset('bookcorpus',split='train')"
   ]
  },
  {
   "cell_type": "code",
   "execution_count": 5,
   "id": "2499119e-4c9a-4087-9a5d-249aac6a598c",
   "metadata": {},
   "outputs": [],
   "source": [
    "mini = corpus.select(range(1000))"
   ]
  },
  {
   "cell_type": "code",
   "execution_count": 6,
   "id": "965b8182-4cae-465b-82e2-7d5dab072744",
   "metadata": {},
   "outputs": [
    {
     "name": "stdout",
     "output_type": "stream",
     "text": [
      "\n",
      "\n",
      "\n",
      "\n",
      "\n",
      "\n",
      "\n",
      "\n",
      "\n",
      "\n",
      "\n",
      "\n",
      "\n",
      "\n",
      "\n",
      "\n",
      "\n",
      "\n",
      "\n",
      "\n"
     ]
    }
   ],
   "source": [
    "dataset = mini.map(lambda x: tokenizer.encode_plus(x['text'],return_token_type_ids=False,padding='max_length',max_length=128,truncation=True),remove_columns=['text'],num_proc=20)"
   ]
  },
  {
   "cell_type": "code",
   "execution_count": 7,
   "id": "eb7c9058-4a9e-4bc8-93a6-7ebfedfaff00",
   "metadata": {},
   "outputs": [],
   "source": [
    "dataset.set_format(type='torch', columns=['input_ids', 'attention_mask'])"
   ]
  },
  {
   "cell_type": "code",
   "execution_count": 8,
   "id": "f4acd45a-96d3-484e-9c88-68a0d8ad410d",
   "metadata": {},
   "outputs": [],
   "source": [
    "# dataset.save_to_disk(\"/mounts/data/proj/jabbar/barlowbert/bookcorpus_all_128\")"
   ]
  },
  {
   "cell_type": "code",
   "execution_count": 11,
   "id": "05f0660f-be00-451b-bf9b-46d4de8f431e",
   "metadata": {},
   "outputs": [],
   "source": [
    "# data = load_from_disk('/mounts/unts/data/proj/jabbar/barlowbert/bookcorpus_20mil_128')\n",
    "# data.set_format(type='torch', columns=['input_ids', 'attention_mask'])"
   ]
  },
  {
   "cell_type": "code",
   "execution_count": 13,
   "id": "7151eea0-a0f0-406a-8a1d-dd925740283d",
   "metadata": {},
   "outputs": [
    {
     "name": "stderr",
     "output_type": "stream",
     "text": [
      "100%|██████████| 1000/1000 [00:01<00:00, 732.85it/s]\n"
     ]
    }
   ],
   "source": [
    "for i in tqdm(range(len(dataset))):\n",
    "    if dataset[i]['input_ids'].shape[0]!=128:\n",
    "        print(i)"
   ]
  },
  {
   "cell_type": "code",
   "execution_count": 14,
   "id": "2ab99414-d109-4188-a240-f2c6d7751878",
   "metadata": {},
   "outputs": [
    {
     "data": {
      "text/plain": [
       "{'attention_mask': tensor([1, 1, 1, 1, 1, 1, 1, 1, 1, 1, 1, 1, 1, 1, 1, 1, 1, 1, 1, 1, 1, 1, 1, 1,\n",
       "         1, 1, 1, 1, 1, 1, 1, 1, 0, 0, 0, 0, 0, 0, 0, 0, 0, 0, 0, 0, 0, 0, 0, 0,\n",
       "         0, 0, 0, 0, 0, 0, 0, 0, 0, 0, 0, 0, 0, 0, 0, 0, 0, 0, 0, 0, 0, 0, 0, 0,\n",
       "         0, 0, 0, 0, 0, 0, 0, 0, 0, 0, 0, 0, 0, 0, 0, 0, 0, 0, 0, 0, 0, 0, 0, 0,\n",
       "         0, 0, 0, 0, 0, 0, 0, 0, 0, 0, 0, 0, 0, 0, 0, 0, 0, 0, 0, 0, 0, 0, 0, 0,\n",
       "         0, 0, 0, 0, 0, 0, 0, 0]),\n",
       " 'input_ids': tensor([  101,  1996,  2431,  1011, 17002,  2338,  2028,  1999,  1996,  2991,\n",
       "          1997, 16270, 11510,  2401,  2186, 10905, 10559,  2061,  4063,  4645,\n",
       "          9385,  2286, 10905, 10559,  2061,  4063,  4645,  2035,  2916,  9235,\n",
       "          1012,   102,     0,     0,     0,     0,     0,     0,     0,     0,\n",
       "             0,     0,     0,     0,     0,     0,     0,     0,     0,     0,\n",
       "             0,     0,     0,     0,     0,     0,     0,     0,     0,     0,\n",
       "             0,     0,     0,     0,     0,     0,     0,     0,     0,     0,\n",
       "             0,     0,     0,     0,     0,     0,     0,     0,     0,     0,\n",
       "             0,     0,     0,     0,     0,     0,     0,     0,     0,     0,\n",
       "             0,     0,     0,     0,     0,     0,     0,     0,     0,     0,\n",
       "             0,     0,     0,     0,     0,     0,     0,     0,     0,     0,\n",
       "             0,     0,     0,     0,     0,     0,     0,     0,     0,     0,\n",
       "             0,     0,     0,     0,     0,     0,     0,     0])}"
      ]
     },
     "execution_count": 14,
     "metadata": {},
     "output_type": "execute_result"
    }
   ],
   "source": [
    "dataset[0]"
   ]
  },
  {
   "cell_type": "code",
   "execution_count": 15,
   "id": "a7323e49-bd4c-4ddc-bd82-625bd6330b22",
   "metadata": {},
   "outputs": [],
   "source": [
    "train_loader = torch.utils.data.DataLoader(dataset, batch_size=4, num_workers=2,\n",
    "                                            pin_memory=True, collate_fn=collator)"
   ]
  },
  {
   "cell_type": "code",
   "execution_count": 16,
   "id": "05e4f316-f2da-4b90-a0aa-575589338c39",
   "metadata": {},
   "outputs": [
    {
     "data": {
      "text/plain": [
       "DataCollatorForBarlowBertWithMLM(tokenizer=PreTrainedTokenizerFast(name_or_path='bert-base-uncased', vocab_size=30522, model_max_len=512, is_fast=True, padding_side='right', special_tokens={'unk_token': '[UNK]', 'sep_token': '[SEP]', 'pad_token': '[PAD]', 'cls_token': '[CLS]', 'mask_token': '[MASK]'}), mlm=True, mlm_probability=0.0, pad_to_multiple_of=None)"
      ]
     },
     "execution_count": 16,
     "metadata": {},
     "output_type": "execute_result"
    }
   ],
   "source": [
    "collator"
   ]
  },
  {
   "cell_type": "code",
   "execution_count": null,
   "id": "b681eada-8752-42d6-b660-99b7af31b4d5",
   "metadata": {},
   "outputs": [],
   "source": [
    "batch = next(iter(train_loader))"
   ]
  },
  {
   "cell_type": "code",
   "execution_count": null,
   "id": "f2017700-f82e-45fa-bdaf-7f40f3da4851",
   "metadata": {},
   "outputs": [],
   "source": [
    "(x,y) = batch"
   ]
  },
  {
   "cell_type": "code",
   "execution_count": null,
   "id": "5f38567b-04f2-4551-bcc7-85a742ab678c",
   "metadata": {},
   "outputs": [],
   "source": [
    "x['input_ids'][0]"
   ]
  },
  {
   "cell_type": "code",
   "execution_count": null,
   "id": "11309421-7006-478c-b29f-2036cb9d5129",
   "metadata": {},
   "outputs": [],
   "source": [
    "y['input_ids'][0]"
   ]
  },
  {
   "cell_type": "code",
   "execution_count": null,
   "id": "cf86c607-7891-4cb2-aee7-51d065585e5c",
   "metadata": {},
   "outputs": [],
   "source": [
    "x['input_ids'][0]==y['input_ids'][0]"
   ]
  },
  {
   "cell_type": "code",
   "execution_count": null,
   "id": "04704df3-e174-48bc-85a6-580e5728b363",
   "metadata": {},
   "outputs": [],
   "source": []
  }
 ],
 "metadata": {
  "kernelspec": {
   "display_name": "Python 3",
   "language": "python",
   "name": "python3"
  },
  "language_info": {
   "codemirror_mode": {
    "name": "ipython",
    "version": 3
   },
   "file_extension": ".py",
   "mimetype": "text/x-python",
   "name": "python",
   "nbconvert_exporter": "python",
   "pygments_lexer": "ipython3",
   "version": "3.8.10"
  }
 },
 "nbformat": 4,
 "nbformat_minor": 5
}
