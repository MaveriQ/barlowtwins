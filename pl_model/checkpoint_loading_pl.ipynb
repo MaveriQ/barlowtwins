{
 "cells": [
  {
   "cell_type": "code",
   "execution_count": 1,
   "id": "5e78e768-caa9-49f2-bcd2-cd5044a692e0",
   "metadata": {},
   "outputs": [],
   "source": [
    "!export CUDA_VISIBLE_DEVICES=7"
   ]
  },
  {
   "cell_type": "code",
   "execution_count": 1,
   "id": "403e2f6f-9811-44f5-9d9f-e1a52aafa4bc",
   "metadata": {},
   "outputs": [],
   "source": [
    "from barlowbert_pl import LitBarlowBert\n",
    "import torch\n",
    "import pytorch_lightning as pl\n",
    "from transformers import BertModel"
   ]
  },
  {
   "cell_type": "code",
   "execution_count": 13,
   "id": "95e57508-9bb6-4ca9-8dff-41e55824f930",
   "metadata": {},
   "outputs": [],
   "source": [
    "ckpt = '/mounts/Users/cisintern/jabbar/data/barlowbert/checkpoint/bert_frozen_bs1024_dropout0.1_lr1e-3_lambd1e-3_mlm0_gpus4_mean_all_fp16/epoch=0-step=5999.ckpt'"
   ]
  },
  {
   "cell_type": "code",
   "execution_count": 18,
   "id": "ebd3741d-17a0-4209-8b74-efc49514381f",
   "metadata": {},
   "outputs": [
    {
     "name": "stderr",
     "output_type": "stream",
     "text": [
      "Some weights of the model checkpoint at bert-base-uncased were not used when initializing BertModel: ['cls.predictions.transform.LayerNorm.weight', 'cls.predictions.decoder.weight', 'cls.predictions.transform.dense.bias', 'cls.predictions.bias', 'cls.seq_relationship.bias', 'cls.predictions.transform.dense.weight', 'cls.predictions.transform.LayerNorm.bias', 'cls.seq_relationship.weight']\n",
      "- This IS expected if you are initializing BertModel from the checkpoint of a model trained on another task or with another architecture (e.g. initializing a BertForSequenceClassification model from a BertForPreTraining model).\n",
      "- This IS NOT expected if you are initializing BertModel from the checkpoint of a model that you expect to be exactly identical (initializing a BertForSequenceClassification model from a BertForSequenceClassification model).\n"
     ]
    }
   ],
   "source": [
    "model = LitBarlowBert.load_from_checkpoint(ckpt,strict=True)"
   ]
  },
  {
   "cell_type": "code",
   "execution_count": null,
   "id": "8cd39988-23d3-4382-8791-ebad8ed226b8",
   "metadata": {},
   "outputs": [],
   "source": [
    "model = LitBarlowBert.load_from_checkpoint('test.ckpt',strict=True)"
   ]
  },
  {
   "cell_type": "code",
   "execution_count": null,
   "id": "c7b3740d-74a6-419b-8beb-d0aa430f48b1",
   "metadata": {},
   "outputs": [],
   "source": [
    "torch.load('test.ckpt')['hyper_parameters']['config'].bert_pooler"
   ]
  },
  {
   "cell_type": "code",
   "execution_count": 16,
   "id": "e1bbe2be-eaa0-4806-ac64-8478e0fed7d1",
   "metadata": {
    "tags": []
   },
   "outputs": [],
   "source": [
    "data = torch.load(ckpt)"
   ]
  },
  {
   "cell_type": "code",
   "execution_count": 17,
   "id": "2e9420d1-5d96-4b36-9bbb-1f7eb2f5028b",
   "metadata": {},
   "outputs": [
    {
     "data": {
      "text/plain": [
       "dict_keys(['epoch', 'global_step', 'pytorch-lightning_version', 'state_dict', 'callbacks', 'optimizer_states', 'lr_schedulers', 'native_amp_scaling_state', 'hparams_name', 'hyper_parameters'])"
      ]
     },
     "execution_count": 17,
     "metadata": {},
     "output_type": "execute_result"
    }
   ],
   "source": [
    "data.keys()  "
   ]
  },
  {
   "cell_type": "code",
   "execution_count": 18,
   "id": "6c1f3566-2831-4aca-a183-a9e4dd27aee2",
   "metadata": {},
   "outputs": [],
   "source": [
    "data['hyper_parameters']['config'].bert_pooler = False"
   ]
  },
  {
   "cell_type": "code",
   "execution_count": 19,
   "id": "b07df38e-404c-435b-b4f6-f6a3f74b4d4c",
   "metadata": {},
   "outputs": [],
   "source": [
    "torch.save(data,ckpt)"
   ]
  },
  {
   "cell_type": "code",
   "execution_count": null,
   "id": "3c806ce0-605d-4b6a-89fb-0276669d9fb5",
   "metadata": {},
   "outputs": [],
   "source": [
    "m = LitBarlowBert(**data['hyper_parameters'])"
   ]
  },
  {
   "cell_type": "code",
   "execution_count": null,
   "id": "ef5cbdb3-391a-47af-a6bb-b2187d8e0ba9",
   "metadata": {},
   "outputs": [],
   "source": [
    "data['state_dict'].keys()"
   ]
  },
  {
   "cell_type": "code",
   "execution_count": null,
   "id": "672df829-34dd-48bd-afa8-25c2f526abca",
   "metadata": {
    "tags": []
   },
   "outputs": [],
   "source": [
    "model.model.bert.embeddings"
   ]
  },
  {
   "cell_type": "code",
   "execution_count": 16,
   "id": "1abcf85a-1e2f-4ed6-b894-a7327e87ae36",
   "metadata": {},
   "outputs": [
    {
     "name": "stderr",
     "output_type": "stream",
     "text": [
      "Some weights of the model checkpoint at bert-base-uncased were not used when initializing BertModel: ['cls.predictions.transform.LayerNorm.weight', 'cls.predictions.decoder.weight', 'cls.predictions.transform.dense.bias', 'cls.predictions.bias', 'cls.seq_relationship.bias', 'cls.predictions.transform.dense.weight', 'cls.predictions.transform.LayerNorm.bias', 'cls.seq_relationship.weight']\n",
      "- This IS expected if you are initializing BertModel from the checkpoint of a model trained on another task or with another architecture (e.g. initializing a BertForSequenceClassification model from a BertForPreTraining model).\n",
      "- This IS NOT expected if you are initializing BertModel from the checkpoint of a model that you expect to be exactly identical (initializing a BertForSequenceClassification model from a BertForSequenceClassification model).\n"
     ]
    }
   ],
   "source": [
    "bert = BertModel.from_pretrained('bert-base-uncased')"
   ]
  },
  {
   "cell_type": "code",
   "execution_count": 19,
   "id": "1871bd0e-8075-4246-b0de-226aa5d2889c",
   "metadata": {},
   "outputs": [
    {
     "data": {
      "text/plain": [
       "True"
      ]
     },
     "execution_count": 19,
     "metadata": {},
     "output_type": "execute_result"
    }
   ],
   "source": [
    "all(list(bert.embeddings.word_embeddings.weight==model.model.bert.embeddings.word_embeddings.weight)[0])"
   ]
  },
  {
   "cell_type": "code",
   "execution_count": 20,
   "id": "a1e6c7d2-464c-40f7-afab-6d75690afea9",
   "metadata": {},
   "outputs": [
    {
     "data": {
      "text/plain": [
       "tensor(3.0755e-05)"
      ]
     },
     "execution_count": 20,
     "metadata": {},
     "output_type": "execute_result"
    }
   ],
   "source": [
    "model.model.bert.pooler.dense.weight.mean()"
   ]
  },
  {
   "cell_type": "code",
   "execution_count": 21,
   "id": "90736ce9-40a6-49cb-80ab-e58747d78434",
   "metadata": {},
   "outputs": [
    {
     "data": {
      "text/plain": [
       "tensor(0.0285)"
      ]
     },
     "execution_count": 21,
     "metadata": {},
     "output_type": "execute_result"
    }
   ],
   "source": [
    "model.model.bert.pooler.dense.weight.std()"
   ]
  },
  {
   "cell_type": "code",
   "execution_count": null,
   "id": "8611a132-f4ec-4415-8480-0e8936a7e4db",
   "metadata": {},
   "outputs": [],
   "source": []
  }
 ],
 "metadata": {
  "kernelspec": {
   "display_name": "Python 3",
   "language": "python",
   "name": "python3"
  },
  "language_info": {
   "codemirror_mode": {
    "name": "ipython",
    "version": 3
   },
   "file_extension": ".py",
   "mimetype": "text/x-python",
   "name": "python",
   "nbconvert_exporter": "python",
   "pygments_lexer": "ipython3",
   "version": "3.8.10"
  }
 },
 "nbformat": 4,
 "nbformat_minor": 5
}
