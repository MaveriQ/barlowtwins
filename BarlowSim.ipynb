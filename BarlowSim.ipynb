{
 "cells": [
  {
   "cell_type": "code",
   "execution_count": 1,
   "id": "103fc83f-a4f7-4d29-9a09-b6ab1772c5ed",
   "metadata": {},
   "outputs": [],
   "source": [
    "from transformers import CONFIG_MAPPING, BertForMaskedLM, BertModel, BertPreTrainedModel, BertTokenizerFast\n",
    "import torch\n",
    "import torch.nn as nn\n",
    "import torch.nn.functional as F\n",
    "import pdb\n",
    "from pl_model.barlowbert_models import SentenceBert, BarlowBert\n",
    "from pl_model.barlowbert_dm import DataCollatorForBarlowBertWithMLM\n",
    "from collections import namedtuple\n",
    "from datasets import load_from_disk"
   ]
  },
  {
   "cell_type": "code",
   "execution_count": 2,
   "id": "56d5956d-624f-41f1-af58-9f18d262308b",
   "metadata": {},
   "outputs": [],
   "source": [
    "%load_ext autoreload\n",
    "%autoreload 2"
   ]
  },
  {
   "cell_type": "code",
   "execution_count": 49,
   "id": "9f288cc7-c7b6-4f8d-8132-f5521e273631",
   "metadata": {},
   "outputs": [],
   "source": [
    "Args = namedtuple('Args',['batch_size','lambda_out','lambda_in','lambda_out_in','mlm_weight','projector', 'do_mlm'])\n",
    "args = Args(16,\n",
    "            0.2,\n",
    "            0.001,\n",
    "            1.0, #corr loss is more important\n",
    "            0.5,\n",
    "            '128-128-128',\n",
    "            False)\n",
    "config = CONFIG_MAPPING['bert'].from_pretrained('bert-base-uncased')"
   ]
  },
  {
   "cell_type": "code",
   "execution_count": 53,
   "id": "89f589e8-f2f5-40d1-b2e4-35b3fc039d27",
   "metadata": {},
   "outputs": [
    {
     "name": "stderr",
     "output_type": "stream",
     "text": [
      "Some weights of the model checkpoint at bert-base-uncased were not used when initializing BertModel: ['cls.predictions.bias', 'cls.seq_relationship.weight', 'cls.predictions.transform.dense.weight', 'cls.predictions.transform.dense.bias', 'cls.predictions.decoder.weight', 'cls.predictions.transform.LayerNorm.weight', 'cls.seq_relationship.bias', 'cls.predictions.transform.LayerNorm.bias']\n",
      "- This IS expected if you are initializing BertModel from the checkpoint of a model trained on another task or with another architecture (e.g. initializing a BertForSequenceClassification model from a BertForPreTraining model).\n",
      "- This IS NOT expected if you are initializing BertModel from the checkpoint of a model that you expect to be exactly identical (initializing a BertForSequenceClassification model from a BertForSequenceClassification model).\n"
     ]
    }
   ],
   "source": [
    "model = BarlowBert(config,args)"
   ]
  },
  {
   "cell_type": "code",
   "execution_count": 6,
   "id": "ddb6c4a1-4cb6-44a8-88e6-33f9c5dc19c0",
   "metadata": {},
   "outputs": [],
   "source": [
    "# corpus = load_from_disk('/mounts/data/proj/jabbar/barlowbert/bookcorpus_20mil_128/')"
   ]
  },
  {
   "cell_type": "code",
   "execution_count": 7,
   "id": "fb4a9d8b-f46b-469f-b998-4571494f519c",
   "metadata": {},
   "outputs": [],
   "source": [
    "corpus.set_format('torch')"
   ]
  },
  {
   "cell_type": "code",
   "execution_count": 8,
   "id": "dc80fbb1-1b70-4705-900c-5f152c3ecd29",
   "metadata": {},
   "outputs": [],
   "source": [
    "tokenizer = BertTokenizerFast.from_pretrained('bert-base-uncased')#, padding=True,truncation=True)"
   ]
  },
  {
   "cell_type": "code",
   "execution_count": 9,
   "id": "b1fc581c-5461-4856-bf65-c48d22017737",
   "metadata": {},
   "outputs": [],
   "source": [
    "collator = DataCollatorForBarlowBertWithMLM(tokenizer=tokenizer)"
   ]
  },
  {
   "cell_type": "code",
   "execution_count": 10,
   "id": "36fb5efa-8866-4ded-b0b6-6477febc4671",
   "metadata": {},
   "outputs": [],
   "source": [
    "input_1 = tokenizer(\"The capital of France is [MASK].\", return_tensors=\"pt\",padding='max_length',truncation=True)#,return_special_tokens_mask=True,max_length=128)\n",
    "input_2 = tokenizer(\"I am going to Berlin.\", return_tensors=\"pt\",padding='max_length',truncation=True,return_special_tokens_mask=True,max_length=128)"
   ]
  },
  {
   "cell_type": "code",
   "execution_count": 11,
   "id": "93b0bc3f-ab53-4b9c-b849-847585e9ede4",
   "metadata": {},
   "outputs": [],
   "source": [
    "dataloader = torch.utils.data.DataLoader(corpus,batch_size=4,collate_fn=collator)"
   ]
  },
  {
   "cell_type": "code",
   "execution_count": 12,
   "id": "1eaaa4b9-6007-4961-8549-d178e68b2b0b",
   "metadata": {},
   "outputs": [],
   "source": [
    "batch = next(iter(dataloader))"
   ]
  },
  {
   "cell_type": "code",
   "execution_count": 13,
   "id": "f095d384-46aa-4c07-9ffe-740c4b2fe494",
   "metadata": {},
   "outputs": [
    {
     "data": {
      "text/plain": [
       "dict_keys(['attention_mask', 'input_ids', 'mlm_input_ids', 'mlm_labels'])"
      ]
     },
     "execution_count": 13,
     "metadata": {},
     "output_type": "execute_result"
    }
   ],
   "source": [
    "batch[0].keys()"
   ]
  },
  {
   "cell_type": "code",
   "execution_count": 54,
   "id": "3701d049-d930-498d-a652-1352e87a831c",
   "metadata": {},
   "outputs": [],
   "source": [
    "out_2=model(batch)"
   ]
  },
  {
   "cell_type": "code",
   "execution_count": 55,
   "id": "873c2e01-5c3f-447a-93b9-a17c57a6e5a3",
   "metadata": {},
   "outputs": [
    {
     "data": {
      "text/plain": [
       "{'loss': tensor(13.6726, grad_fn=<AddBackward0>),\n",
       " 'sim_loss': tensor(0.2806, grad_fn=<AddBackward0>),\n",
       " 'corr_loss': tensor(13.3919, grad_fn=<AddBackward0>)}"
      ]
     },
     "execution_count": 55,
     "metadata": {},
     "output_type": "execute_result"
    }
   ],
   "source": [
    "out_2"
   ]
  },
  {
   "cell_type": "code",
   "execution_count": 24,
   "id": "1bcf480f-f2d5-4c29-b99d-bb1bee1d49c7",
   "metadata": {},
   "outputs": [
    {
     "data": {
      "text/plain": [
       "{'loss': tensor(538.1262, grad_fn=<AddBackward0>),\n",
       " 'sim_loss': tensor(2.2527, grad_fn=<AddBackward0>),\n",
       " 'corr_loss': tensor(535.3735, grad_fn=<AddBackward0>)}"
      ]
     },
     "execution_count": 24,
     "metadata": {},
     "output_type": "execute_result"
    }
   ],
   "source": [
    "out_2"
   ]
  },
  {
   "cell_type": "code",
   "execution_count": 17,
   "id": "737dc9a3-9a18-4a75-819b-f0c0d9cf587d",
   "metadata": {
    "tags": []
   },
   "outputs": [],
   "source": [
    "model.train();"
   ]
  },
  {
   "cell_type": "code",
   "execution_count": 18,
   "id": "507fd665-4f3a-43e8-a941-31b8910925e6",
   "metadata": {},
   "outputs": [],
   "source": [
    "out_1= model.model(**batch[0])\n",
    "out_12= model.model(**batch[1])"
   ]
  },
  {
   "cell_type": "code",
   "execution_count": 19,
   "id": "2ea050af-9be7-46be-b512-56e7f7da71b2",
   "metadata": {
    "collapsed": true,
    "jupyter": {
     "outputs_hidden": true
    },
    "tags": []
   },
   "outputs": [
    {
     "data": {
      "text/plain": [
       "tensor([[-1.2856e-02,  1.1372e-03,  6.1142e-01, -2.4056e-03, -4.5697e-01,\n",
       "         -4.9410e-02, -4.5388e-02, -1.0168e-01,  4.9248e-01,  3.1437e-01,\n",
       "          1.5531e-02,  2.6873e-02, -2.4918e-01, -2.6895e-01, -4.0993e-02,\n",
       "         -1.0562e-02, -5.1190e-02,  3.5261e-01, -2.3962e-01,  1.7553e-01,\n",
       "         -3.2062e-02, -3.0016e-01,  1.1416e-02,  3.7877e-01, -4.4914e-01,\n",
       "         -2.9914e-01,  4.1602e-01, -2.3996e-01, -5.7723e-02,  4.1246e-02,\n",
       "         -1.2264e-01, -1.0458e-01, -2.2947e-01,  9.0754e-02, -2.6788e-01,\n",
       "         -7.3850e-02, -1.1497e-01,  8.5765e-01, -1.5307e-01,  1.4364e-01,\n",
       "          2.2260e-01,  1.4950e-01,  2.2769e-01, -6.9143e-02,  4.2038e-02,\n",
       "         -5.4300e-01, -5.2231e-02,  1.6750e-01,  1.1889e-01, -5.9665e-02,\n",
       "          5.0301e-02, -2.5340e-02,  8.5801e-02, -7.5178e-02, -1.2653e-02,\n",
       "         -1.1717e-01,  3.9630e-01,  1.0276e-01, -6.7161e-02,  3.7028e-02,\n",
       "         -3.0291e-02, -1.7160e-01, -5.6745e-01, -9.7273e-02, -3.6912e-01,\n",
       "          2.4252e-01, -4.9061e-02,  3.4749e-01, -5.1394e-02,  6.8943e-01,\n",
       "          3.9344e-02,  1.0476e-01, -8.5459e-02, -5.2881e-02,  1.1322e-01,\n",
       "         -2.1135e-02,  2.8574e-01, -4.3261e-02, -3.3535e-02, -2.6946e-02,\n",
       "         -4.0825e-02, -1.8413e-01,  1.4437e-01, -4.7020e-01,  1.3534e-02,\n",
       "         -3.5072e-01, -1.2967e-01, -4.5564e-02, -3.4231e-02, -8.0113e-02,\n",
       "         -2.9750e-01, -1.9450e-01, -3.7545e-01,  3.5407e-01,  4.3434e-01,\n",
       "         -2.5280e-01,  2.6607e-01, -4.4404e-02,  8.8300e-02, -6.4890e-02,\n",
       "          4.5950e-02,  3.7003e-01,  2.7494e-01, -3.6129e-02,  6.0170e-03,\n",
       "          2.7587e-01, -5.2095e-01, -7.7319e-02, -5.2103e-01, -4.7323e-01,\n",
       "          1.7047e-02, -1.2220e-01,  3.8185e-01, -3.8983e-02, -2.5318e-02,\n",
       "         -2.3496e-02,  3.0677e-01,  2.1996e-02,  6.8731e-01, -2.1803e-01,\n",
       "         -1.0836e-03, -2.1386e-02, -2.5636e-02,  2.8174e-01, -6.4853e-02,\n",
       "          1.4210e-01, -9.9426e-02, -3.5806e-02],\n",
       "        [ 1.7647e-02, -5.8527e-02, -7.4457e-01,  6.6107e-01, -4.1670e-02,\n",
       "          5.7911e-02, -1.0852e-01,  6.6475e-02, -6.4691e-02,  1.9153e-01,\n",
       "         -2.6284e-01,  1.1690e-02,  3.8415e-01,  1.8506e-01, -6.8166e-02,\n",
       "          1.6802e-01, -1.7291e-01,  4.1531e-01, -1.1491e-01, -2.2714e-01,\n",
       "         -6.9048e-02,  5.1106e-02, -4.2357e-01, -3.2730e-01, -8.9435e-02,\n",
       "          7.0334e-02, -2.9356e-01,  1.3338e-01,  1.7316e-02,  2.7248e-01,\n",
       "         -6.2096e-01,  2.8579e-01,  1.8266e-02, -7.1109e-02,  1.4178e-01,\n",
       "         -3.9951e-02,  7.1869e-02, -4.3956e-01,  4.5968e-01,  2.8249e-01,\n",
       "         -1.1428e-01, -3.7872e-01,  3.5111e-01,  1.2568e-01,  3.1546e-01,\n",
       "         -2.7474e-01,  1.9707e-02,  3.4284e-02, -2.9774e-01,  1.5293e-01,\n",
       "         -9.9783e-02, -1.4805e-01,  8.2842e-03, -2.0825e-02,  1.8498e-02,\n",
       "          1.5480e-02, -4.0740e-02,  4.4401e-01,  5.8290e-03,  4.1059e-01,\n",
       "          4.2778e-02,  1.9475e-03,  3.9228e-01,  6.3380e-02,  1.1391e-01,\n",
       "          1.0026e-01,  1.0401e-02,  4.2216e-01,  1.0802e-02,  1.0688e-01,\n",
       "          1.8850e-01,  2.5065e-01, -3.0965e-01, -6.4428e-02,  1.8010e-01,\n",
       "         -3.0214e-02,  8.8952e-02,  1.7182e-02,  1.2466e-01, -1.4346e-01,\n",
       "          9.2255e-02, -2.2645e-01, -1.0559e+00,  7.6986e-01, -7.6868e-03,\n",
       "         -2.6159e-01,  8.7229e-02, -1.9080e-01,  2.1551e-02, -2.4930e-01,\n",
       "          3.9689e-01, -8.2169e-03, -1.5662e-01,  4.1254e-01, -2.1497e-01,\n",
       "          2.3965e-01, -1.2958e-02,  1.6894e-02,  5.4927e-02, -2.8979e-02,\n",
       "         -4.7295e-02, -2.6514e-01, -4.5562e-02, -2.8274e-02, -8.8060e-04,\n",
       "          3.9904e-01,  2.4831e-01, -1.0426e-01, -3.3858e-01, -7.1093e-02,\n",
       "         -1.1043e-01, -1.9721e-01, -2.6636e-01, -4.2257e-02, -2.0248e-02,\n",
       "         -3.2186e-02, -1.6317e-01,  2.5946e-01, -3.0329e-01, -1.2458e-02,\n",
       "          2.1913e-01, -1.5571e-01, -5.4642e-02, -1.4757e-02, -9.0886e-03,\n",
       "         -2.7981e-01, -9.3395e-02,  3.2847e-02],\n",
       "        [ 4.5157e-01,  2.8682e-01,  1.1775e-01, -4.0649e-01,  8.3390e-03,\n",
       "          1.1677e-02, -5.0342e-01, -4.7771e-02, -2.5460e-01,  4.3512e-01,\n",
       "         -3.0715e-01,  1.2488e-01,  4.3820e-01,  7.2635e-02,  9.4710e-02,\n",
       "          3.1376e-01, -3.7489e-02,  6.6525e-01,  1.3510e-02,  1.8350e-01,\n",
       "         -1.8220e-01, -1.7337e-01,  3.8116e-02, -8.0364e-01, -1.2520e-01,\n",
       "         -6.7354e-03, -3.3515e-01, -6.2585e-02,  4.4042e-04,  1.9904e-01,\n",
       "         -6.4438e-01,  5.0965e-01, -2.2141e-02, -7.9447e-01,  2.3662e-02,\n",
       "          8.4893e-02,  3.7614e-02,  5.4185e-01,  5.5418e-01,  1.0154e+00,\n",
       "          2.5338e-01,  4.4055e-01,  2.4062e-01, -1.5303e-02, -3.7555e-01,\n",
       "         -2.2695e-01,  6.8083e-03,  4.8924e-01,  2.3460e-01,  2.1708e+00,\n",
       "         -1.2290e-01,  2.3889e-01, -9.0090e-03, -6.8664e-02,  1.4534e-01,\n",
       "         -2.1630e-01,  5.9560e-02,  9.9702e-01, -7.0477e-01, -2.3587e-01,\n",
       "          1.4758e-02, -4.5208e-02, -3.7922e-01,  1.9705e-01, -6.4693e-02,\n",
       "         -4.6682e-02,  1.0793e-01,  2.4440e-01,  3.3704e-01,  2.2463e-01,\n",
       "         -1.2155e-01,  8.4159e-03, -1.9272e-02,  2.3802e-01, -1.8208e-01,\n",
       "          3.2007e-02,  5.5712e-01,  2.2328e-02,  8.4303e-01,  9.3965e-02,\n",
       "          2.0534e-02, -3.8931e-01,  2.5788e-02, -8.5703e-01,  1.6584e-01,\n",
       "         -3.8509e-01,  7.0192e-03, -2.9894e-01, -1.4048e-01,  1.1423e-01,\n",
       "         -1.7601e-01, -2.3275e-01, -3.7597e-01, -4.9555e-01, -2.9446e-02,\n",
       "          1.8096e-01, -7.9572e-01, -2.0843e-01, -4.4212e-01,  8.4597e-01,\n",
       "          1.1052e+00, -1.6984e+00, -1.9865e-01, -2.1739e-01,  3.3375e-01,\n",
       "         -2.2813e-01, -6.4426e-01, -4.0027e-01, -5.1212e-01, -7.7941e-01,\n",
       "         -1.1589e+00,  5.1083e-01, -1.1702e+00,  2.5522e-02,  5.8765e-02,\n",
       "          6.1059e-01,  4.1178e-02, -2.2748e-01,  7.6984e-01,  3.9068e-02,\n",
       "          5.4645e-01, -7.1139e-03, -6.5160e-01, -5.0150e-01,  8.0931e-02,\n",
       "          1.7723e-01,  7.7170e-01, -8.8293e-02],\n",
       "        [ 1.9410e-01,  3.2221e-01, -5.2951e-01, -5.2191e-01,  1.6246e+00,\n",
       "          1.0537e-01,  6.1917e-02, -6.5336e-01, -6.4546e-01,  7.7917e-01,\n",
       "          1.1655e-01, -3.9249e-01, -6.6316e-03,  9.0831e-02, -6.1711e-02,\n",
       "          1.8401e-01,  3.5834e-01, -3.0523e-01, -1.6278e-01,  2.7283e-01,\n",
       "          2.8861e-01,  1.8688e-01, -2.6855e-02,  6.5806e-01, -1.1839e-01,\n",
       "          6.6262e-02, -6.4805e-01, -2.9473e-02,  6.3253e-01, -7.8518e-01,\n",
       "          8.8466e-02, -6.8380e-01,  1.1555e-01, -1.5146e-01,  3.1926e-01,\n",
       "          1.1993e-01, -2.8259e-02,  5.5260e-01,  1.2158e+00,  5.7313e-01,\n",
       "         -5.9823e-02,  4.6171e-02, -8.1148e-02, -1.9061e-01, -2.9430e-02,\n",
       "          2.6315e-01, -2.0667e-01,  1.7874e-01, -1.5618e-01, -5.2184e-01,\n",
       "         -2.7864e-01,  4.4620e-01, -4.9377e-02, -4.9460e-02, -4.8147e-02,\n",
       "          4.5715e-01, -1.3042e-01, -1.3726e+00,  4.8591e-03, -6.6044e-02,\n",
       "         -4.9503e-02, -1.6145e-02,  1.7331e-01,  6.0697e-02, -1.2599e-01,\n",
       "          1.1054e+00, -2.6038e-03,  7.7980e-02,  9.1594e-02, -1.9414e-01,\n",
       "         -2.1327e-01,  9.5462e-03,  4.3607e-01, -2.4125e-01,  1.9659e-01,\n",
       "         -8.5017e-02, -1.8637e-01, -9.7462e-01, -2.6653e-02, -1.6337e-02,\n",
       "          1.9573e-01,  1.0685e+00,  2.1551e-01, -1.0327e+00, -1.6122e-01,\n",
       "         -4.5417e-01, -1.1978e-01, -9.9592e-01,  4.9281e-02,  4.2592e-01,\n",
       "         -1.3107e+00,  5.2937e-01, -2.3067e-01, -3.7667e-01, -6.7589e-02,\n",
       "          1.2956e+00, -8.3562e-01, -5.7239e-02, -4.7997e-02,  4.9895e-01,\n",
       "         -7.6942e-03,  2.2506e-01, -7.1379e-02, -1.0650e-01,  8.9422e-03,\n",
       "         -7.5183e-01,  1.3143e+00, -3.3897e-02,  1.5088e-01,  6.5403e-01,\n",
       "          1.5196e-01,  1.7747e-01, -3.5632e-02,  1.3114e-01,  1.0212e-01,\n",
       "          1.3465e-01, -1.2306e-01, -9.5407e-01, -9.7600e-01,  5.9406e-01,\n",
       "          2.9431e-01,  4.8780e-01, -1.0342e+00, -9.3425e-01, -1.4934e-01,\n",
       "          5.6783e-01, -1.9496e-02,  2.6251e-01]], grad_fn=<SubBackward0>)"
      ]
     },
     "execution_count": 19,
     "metadata": {},
     "output_type": "execute_result"
    }
   ],
   "source": [
    "out_1['projection']-out_12['projection']"
   ]
  },
  {
   "cell_type": "code",
   "execution_count": 20,
   "id": "69203b59-3c6a-4d5e-9496-16ccedd97168",
   "metadata": {},
   "outputs": [
    {
     "data": {
      "text/plain": [
       "dict_keys(['projection'])"
      ]
     },
     "execution_count": 20,
     "metadata": {},
     "output_type": "execute_result"
    }
   ],
   "source": [
    "out_1.keys()"
   ]
  },
  {
   "cell_type": "code",
   "execution_count": 25,
   "id": "428a9e45-5165-4671-8670-baba6a6af8f9",
   "metadata": {
    "tags": []
   },
   "outputs": [
    {
     "data": {
      "text/plain": [
       "0.5"
      ]
     },
     "execution_count": 25,
     "metadata": {},
     "output_type": "execute_result"
    }
   ],
   "source": [
    "args.lambda_out_in"
   ]
  },
  {
   "cell_type": "code",
   "execution_count": null,
   "id": "46f43dd3-0393-4bc5-883f-336b351d42e9",
   "metadata": {},
   "outputs": [],
   "source": []
  }
 ],
 "metadata": {
  "kernelspec": {
   "display_name": "Python 3",
   "language": "python",
   "name": "python3"
  },
  "language_info": {
   "codemirror_mode": {
    "name": "ipython",
    "version": 3
   },
   "file_extension": ".py",
   "mimetype": "text/x-python",
   "name": "python",
   "nbconvert_exporter": "python",
   "pygments_lexer": "ipython3",
   "version": "3.8.10"
  }
 },
 "nbformat": 4,
 "nbformat_minor": 5
}
