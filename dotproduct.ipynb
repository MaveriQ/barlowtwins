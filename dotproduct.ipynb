{
 "cells": [
  {
   "cell_type": "code",
   "execution_count": 9,
   "id": "3f68bdcd-0f56-415d-b481-f8de2edd6705",
   "metadata": {},
   "outputs": [],
   "source": [
    "from datasets import load_dataset, load_from_disk\n",
    "from transformers import CONFIG_MAPPING, BertModel, BertTokenizerFast\n",
    "import torch"
   ]
  },
  {
   "cell_type": "code",
   "execution_count": 3,
   "id": "062f9958-ff28-40f1-ad4f-3f2368118971",
   "metadata": {},
   "outputs": [],
   "source": [
    "config = CONFIG_MAPPING['bert'].from_pretrained('bert-base-uncased')"
   ]
  },
  {
   "cell_type": "code",
   "execution_count": 4,
   "id": "b0b95d02-eccd-406a-9379-b0f0e62f5def",
   "metadata": {},
   "outputs": [
    {
     "name": "stderr",
     "output_type": "stream",
     "text": [
      "Some weights of the model checkpoint at bert-base-uncased were not used when initializing BertModel: ['cls.predictions.transform.dense.weight', 'cls.predictions.transform.LayerNorm.bias', 'cls.predictions.bias', 'cls.predictions.transform.LayerNorm.weight', 'cls.predictions.decoder.weight', 'cls.predictions.transform.dense.bias', 'cls.seq_relationship.weight', 'cls.seq_relationship.bias']\n",
      "- This IS expected if you are initializing BertModel from the checkpoint of a model trained on another task or with another architecture (e.g. initializing a BertForSequenceClassification model from a BertForPreTraining model).\n",
      "- This IS NOT expected if you are initializing BertModel from the checkpoint of a model that you expect to be exactly identical (initializing a BertForSequenceClassification model from a BertForSequenceClassification model).\n"
     ]
    }
   ],
   "source": [
    "bert = BertModel(config,add_pooling_layer=True).from_pretrained('bert-base-uncased')"
   ]
  },
  {
   "cell_type": "code",
   "execution_count": 6,
   "id": "2dc7a136-36cb-4571-8539-f9d905d79b27",
   "metadata": {},
   "outputs": [
    {
     "name": "stderr",
     "output_type": "stream",
     "text": [
      "Reusing dataset bookcorpus (/mounts/data/corp/huggingface/datasets/bookcorpus/plain_text/1.0.0/44662c4a114441c35200992bea923b170e6f13f2f0beb7c14e43759cec498700)\n"
     ]
    }
   ],
   "source": [
    "corpus = load_dataset('bookcorpus',split='train')"
   ]
  },
  {
   "cell_type": "code",
   "execution_count": 10,
   "id": "e7c17351-f2d7-4643-9d5a-a2eff080148b",
   "metadata": {},
   "outputs": [],
   "source": [
    "tokenized_corpus = load_from_disk('/mounts/data/proj/jabbar/barlowbert/bookcorpus_20mil_128/')"
   ]
  },
  {
   "cell_type": "code",
   "execution_count": 17,
   "id": "fff85711-f15a-4c6f-a287-c4e1e4eb1abb",
   "metadata": {},
   "outputs": [],
   "source": [
    "tokenized_corpus.set_format('torch')"
   ]
  },
  {
   "cell_type": "code",
   "execution_count": 7,
   "id": "e6b65c3e-7fcb-48bb-a67c-f1553326741f",
   "metadata": {},
   "outputs": [],
   "source": [
    "tokenizer = BertTokenizerFast.from_pretrained('bert-base-uncased')"
   ]
  },
  {
   "cell_type": "code",
   "execution_count": 42,
   "id": "f20b7703-8e76-45c7-b34d-3fe3f76d1116",
   "metadata": {},
   "outputs": [
    {
     "data": {
      "text/plain": [
       "'[CLS] starlings, new york is not the place youd expect much to happen. [SEP] [PAD] [PAD] [PAD] [PAD] [PAD] [PAD] [PAD] [PAD] [PAD] [PAD] [PAD] [PAD] [PAD] [PAD] [PAD] [PAD] [PAD] [PAD] [PAD] [PAD] [PAD] [PAD] [PAD] [PAD] [PAD] [PAD] [PAD] [PAD] [PAD] [PAD] [PAD] [PAD] [PAD] [PAD] [PAD] [PAD] [PAD] [PAD] [PAD] [PAD] [PAD] [PAD] [PAD] [PAD] [PAD] [PAD] [PAD] [PAD] [PAD] [PAD] [PAD] [PAD] [PAD] [PAD] [PAD] [PAD] [PAD] [PAD] [PAD] [PAD] [PAD] [PAD] [PAD] [PAD] [PAD] [PAD] [PAD] [PAD] [PAD] [PAD] [PAD] [PAD] [PAD] [PAD] [PAD] [PAD] [PAD] [PAD] [PAD] [PAD] [PAD] [PAD] [PAD] [PAD] [PAD] [PAD] [PAD] [PAD] [PAD] [PAD] [PAD] [PAD] [PAD] [PAD] [PAD] [PAD] [PAD] [PAD] [PAD] [PAD] [PAD] [PAD] [PAD] [PAD] [PAD] [PAD] [PAD] [PAD] [PAD] [PAD]'"
      ]
     },
     "execution_count": 42,
     "metadata": {},
     "output_type": "execute_result"
    }
   ],
   "source": [
    "tokenizer.decode(tokenized_corpus[3]['input_ids'])"
   ]
  },
  {
   "cell_type": "code",
   "execution_count": 44,
   "id": "dd9f3bbf-feb0-494c-95e8-a8bc845b448a",
   "metadata": {
    "collapsed": true,
    "jupyter": {
     "outputs_hidden": true
    },
    "tags": []
   },
   "outputs": [
    {
     "data": {
      "text/plain": [
       "BertModel(\n",
       "  (embeddings): BertEmbeddings(\n",
       "    (word_embeddings): Embedding(30522, 768, padding_idx=0)\n",
       "    (position_embeddings): Embedding(512, 768)\n",
       "    (token_type_embeddings): Embedding(2, 768)\n",
       "    (LayerNorm): LayerNorm((768,), eps=1e-12, elementwise_affine=True)\n",
       "    (dropout): Dropout(p=0.1, inplace=False)\n",
       "  )\n",
       "  (encoder): BertEncoder(\n",
       "    (layer): ModuleList(\n",
       "      (0): BertLayer(\n",
       "        (attention): BertAttention(\n",
       "          (self): BertSelfAttention(\n",
       "            (query): Linear(in_features=768, out_features=768, bias=True)\n",
       "            (key): Linear(in_features=768, out_features=768, bias=True)\n",
       "            (value): Linear(in_features=768, out_features=768, bias=True)\n",
       "            (dropout): Dropout(p=0.1, inplace=False)\n",
       "          )\n",
       "          (output): BertSelfOutput(\n",
       "            (dense): Linear(in_features=768, out_features=768, bias=True)\n",
       "            (LayerNorm): LayerNorm((768,), eps=1e-12, elementwise_affine=True)\n",
       "            (dropout): Dropout(p=0.1, inplace=False)\n",
       "          )\n",
       "        )\n",
       "        (intermediate): BertIntermediate(\n",
       "          (dense): Linear(in_features=768, out_features=3072, bias=True)\n",
       "        )\n",
       "        (output): BertOutput(\n",
       "          (dense): Linear(in_features=3072, out_features=768, bias=True)\n",
       "          (LayerNorm): LayerNorm((768,), eps=1e-12, elementwise_affine=True)\n",
       "          (dropout): Dropout(p=0.1, inplace=False)\n",
       "        )\n",
       "      )\n",
       "      (1): BertLayer(\n",
       "        (attention): BertAttention(\n",
       "          (self): BertSelfAttention(\n",
       "            (query): Linear(in_features=768, out_features=768, bias=True)\n",
       "            (key): Linear(in_features=768, out_features=768, bias=True)\n",
       "            (value): Linear(in_features=768, out_features=768, bias=True)\n",
       "            (dropout): Dropout(p=0.1, inplace=False)\n",
       "          )\n",
       "          (output): BertSelfOutput(\n",
       "            (dense): Linear(in_features=768, out_features=768, bias=True)\n",
       "            (LayerNorm): LayerNorm((768,), eps=1e-12, elementwise_affine=True)\n",
       "            (dropout): Dropout(p=0.1, inplace=False)\n",
       "          )\n",
       "        )\n",
       "        (intermediate): BertIntermediate(\n",
       "          (dense): Linear(in_features=768, out_features=3072, bias=True)\n",
       "        )\n",
       "        (output): BertOutput(\n",
       "          (dense): Linear(in_features=3072, out_features=768, bias=True)\n",
       "          (LayerNorm): LayerNorm((768,), eps=1e-12, elementwise_affine=True)\n",
       "          (dropout): Dropout(p=0.1, inplace=False)\n",
       "        )\n",
       "      )\n",
       "      (2): BertLayer(\n",
       "        (attention): BertAttention(\n",
       "          (self): BertSelfAttention(\n",
       "            (query): Linear(in_features=768, out_features=768, bias=True)\n",
       "            (key): Linear(in_features=768, out_features=768, bias=True)\n",
       "            (value): Linear(in_features=768, out_features=768, bias=True)\n",
       "            (dropout): Dropout(p=0.1, inplace=False)\n",
       "          )\n",
       "          (output): BertSelfOutput(\n",
       "            (dense): Linear(in_features=768, out_features=768, bias=True)\n",
       "            (LayerNorm): LayerNorm((768,), eps=1e-12, elementwise_affine=True)\n",
       "            (dropout): Dropout(p=0.1, inplace=False)\n",
       "          )\n",
       "        )\n",
       "        (intermediate): BertIntermediate(\n",
       "          (dense): Linear(in_features=768, out_features=3072, bias=True)\n",
       "        )\n",
       "        (output): BertOutput(\n",
       "          (dense): Linear(in_features=3072, out_features=768, bias=True)\n",
       "          (LayerNorm): LayerNorm((768,), eps=1e-12, elementwise_affine=True)\n",
       "          (dropout): Dropout(p=0.1, inplace=False)\n",
       "        )\n",
       "      )\n",
       "      (3): BertLayer(\n",
       "        (attention): BertAttention(\n",
       "          (self): BertSelfAttention(\n",
       "            (query): Linear(in_features=768, out_features=768, bias=True)\n",
       "            (key): Linear(in_features=768, out_features=768, bias=True)\n",
       "            (value): Linear(in_features=768, out_features=768, bias=True)\n",
       "            (dropout): Dropout(p=0.1, inplace=False)\n",
       "          )\n",
       "          (output): BertSelfOutput(\n",
       "            (dense): Linear(in_features=768, out_features=768, bias=True)\n",
       "            (LayerNorm): LayerNorm((768,), eps=1e-12, elementwise_affine=True)\n",
       "            (dropout): Dropout(p=0.1, inplace=False)\n",
       "          )\n",
       "        )\n",
       "        (intermediate): BertIntermediate(\n",
       "          (dense): Linear(in_features=768, out_features=3072, bias=True)\n",
       "        )\n",
       "        (output): BertOutput(\n",
       "          (dense): Linear(in_features=3072, out_features=768, bias=True)\n",
       "          (LayerNorm): LayerNorm((768,), eps=1e-12, elementwise_affine=True)\n",
       "          (dropout): Dropout(p=0.1, inplace=False)\n",
       "        )\n",
       "      )\n",
       "      (4): BertLayer(\n",
       "        (attention): BertAttention(\n",
       "          (self): BertSelfAttention(\n",
       "            (query): Linear(in_features=768, out_features=768, bias=True)\n",
       "            (key): Linear(in_features=768, out_features=768, bias=True)\n",
       "            (value): Linear(in_features=768, out_features=768, bias=True)\n",
       "            (dropout): Dropout(p=0.1, inplace=False)\n",
       "          )\n",
       "          (output): BertSelfOutput(\n",
       "            (dense): Linear(in_features=768, out_features=768, bias=True)\n",
       "            (LayerNorm): LayerNorm((768,), eps=1e-12, elementwise_affine=True)\n",
       "            (dropout): Dropout(p=0.1, inplace=False)\n",
       "          )\n",
       "        )\n",
       "        (intermediate): BertIntermediate(\n",
       "          (dense): Linear(in_features=768, out_features=3072, bias=True)\n",
       "        )\n",
       "        (output): BertOutput(\n",
       "          (dense): Linear(in_features=3072, out_features=768, bias=True)\n",
       "          (LayerNorm): LayerNorm((768,), eps=1e-12, elementwise_affine=True)\n",
       "          (dropout): Dropout(p=0.1, inplace=False)\n",
       "        )\n",
       "      )\n",
       "      (5): BertLayer(\n",
       "        (attention): BertAttention(\n",
       "          (self): BertSelfAttention(\n",
       "            (query): Linear(in_features=768, out_features=768, bias=True)\n",
       "            (key): Linear(in_features=768, out_features=768, bias=True)\n",
       "            (value): Linear(in_features=768, out_features=768, bias=True)\n",
       "            (dropout): Dropout(p=0.1, inplace=False)\n",
       "          )\n",
       "          (output): BertSelfOutput(\n",
       "            (dense): Linear(in_features=768, out_features=768, bias=True)\n",
       "            (LayerNorm): LayerNorm((768,), eps=1e-12, elementwise_affine=True)\n",
       "            (dropout): Dropout(p=0.1, inplace=False)\n",
       "          )\n",
       "        )\n",
       "        (intermediate): BertIntermediate(\n",
       "          (dense): Linear(in_features=768, out_features=3072, bias=True)\n",
       "        )\n",
       "        (output): BertOutput(\n",
       "          (dense): Linear(in_features=3072, out_features=768, bias=True)\n",
       "          (LayerNorm): LayerNorm((768,), eps=1e-12, elementwise_affine=True)\n",
       "          (dropout): Dropout(p=0.1, inplace=False)\n",
       "        )\n",
       "      )\n",
       "      (6): BertLayer(\n",
       "        (attention): BertAttention(\n",
       "          (self): BertSelfAttention(\n",
       "            (query): Linear(in_features=768, out_features=768, bias=True)\n",
       "            (key): Linear(in_features=768, out_features=768, bias=True)\n",
       "            (value): Linear(in_features=768, out_features=768, bias=True)\n",
       "            (dropout): Dropout(p=0.1, inplace=False)\n",
       "          )\n",
       "          (output): BertSelfOutput(\n",
       "            (dense): Linear(in_features=768, out_features=768, bias=True)\n",
       "            (LayerNorm): LayerNorm((768,), eps=1e-12, elementwise_affine=True)\n",
       "            (dropout): Dropout(p=0.1, inplace=False)\n",
       "          )\n",
       "        )\n",
       "        (intermediate): BertIntermediate(\n",
       "          (dense): Linear(in_features=768, out_features=3072, bias=True)\n",
       "        )\n",
       "        (output): BertOutput(\n",
       "          (dense): Linear(in_features=3072, out_features=768, bias=True)\n",
       "          (LayerNorm): LayerNorm((768,), eps=1e-12, elementwise_affine=True)\n",
       "          (dropout): Dropout(p=0.1, inplace=False)\n",
       "        )\n",
       "      )\n",
       "      (7): BertLayer(\n",
       "        (attention): BertAttention(\n",
       "          (self): BertSelfAttention(\n",
       "            (query): Linear(in_features=768, out_features=768, bias=True)\n",
       "            (key): Linear(in_features=768, out_features=768, bias=True)\n",
       "            (value): Linear(in_features=768, out_features=768, bias=True)\n",
       "            (dropout): Dropout(p=0.1, inplace=False)\n",
       "          )\n",
       "          (output): BertSelfOutput(\n",
       "            (dense): Linear(in_features=768, out_features=768, bias=True)\n",
       "            (LayerNorm): LayerNorm((768,), eps=1e-12, elementwise_affine=True)\n",
       "            (dropout): Dropout(p=0.1, inplace=False)\n",
       "          )\n",
       "        )\n",
       "        (intermediate): BertIntermediate(\n",
       "          (dense): Linear(in_features=768, out_features=3072, bias=True)\n",
       "        )\n",
       "        (output): BertOutput(\n",
       "          (dense): Linear(in_features=3072, out_features=768, bias=True)\n",
       "          (LayerNorm): LayerNorm((768,), eps=1e-12, elementwise_affine=True)\n",
       "          (dropout): Dropout(p=0.1, inplace=False)\n",
       "        )\n",
       "      )\n",
       "      (8): BertLayer(\n",
       "        (attention): BertAttention(\n",
       "          (self): BertSelfAttention(\n",
       "            (query): Linear(in_features=768, out_features=768, bias=True)\n",
       "            (key): Linear(in_features=768, out_features=768, bias=True)\n",
       "            (value): Linear(in_features=768, out_features=768, bias=True)\n",
       "            (dropout): Dropout(p=0.1, inplace=False)\n",
       "          )\n",
       "          (output): BertSelfOutput(\n",
       "            (dense): Linear(in_features=768, out_features=768, bias=True)\n",
       "            (LayerNorm): LayerNorm((768,), eps=1e-12, elementwise_affine=True)\n",
       "            (dropout): Dropout(p=0.1, inplace=False)\n",
       "          )\n",
       "        )\n",
       "        (intermediate): BertIntermediate(\n",
       "          (dense): Linear(in_features=768, out_features=3072, bias=True)\n",
       "        )\n",
       "        (output): BertOutput(\n",
       "          (dense): Linear(in_features=3072, out_features=768, bias=True)\n",
       "          (LayerNorm): LayerNorm((768,), eps=1e-12, elementwise_affine=True)\n",
       "          (dropout): Dropout(p=0.1, inplace=False)\n",
       "        )\n",
       "      )\n",
       "      (9): BertLayer(\n",
       "        (attention): BertAttention(\n",
       "          (self): BertSelfAttention(\n",
       "            (query): Linear(in_features=768, out_features=768, bias=True)\n",
       "            (key): Linear(in_features=768, out_features=768, bias=True)\n",
       "            (value): Linear(in_features=768, out_features=768, bias=True)\n",
       "            (dropout): Dropout(p=0.1, inplace=False)\n",
       "          )\n",
       "          (output): BertSelfOutput(\n",
       "            (dense): Linear(in_features=768, out_features=768, bias=True)\n",
       "            (LayerNorm): LayerNorm((768,), eps=1e-12, elementwise_affine=True)\n",
       "            (dropout): Dropout(p=0.1, inplace=False)\n",
       "          )\n",
       "        )\n",
       "        (intermediate): BertIntermediate(\n",
       "          (dense): Linear(in_features=768, out_features=3072, bias=True)\n",
       "        )\n",
       "        (output): BertOutput(\n",
       "          (dense): Linear(in_features=3072, out_features=768, bias=True)\n",
       "          (LayerNorm): LayerNorm((768,), eps=1e-12, elementwise_affine=True)\n",
       "          (dropout): Dropout(p=0.1, inplace=False)\n",
       "        )\n",
       "      )\n",
       "      (10): BertLayer(\n",
       "        (attention): BertAttention(\n",
       "          (self): BertSelfAttention(\n",
       "            (query): Linear(in_features=768, out_features=768, bias=True)\n",
       "            (key): Linear(in_features=768, out_features=768, bias=True)\n",
       "            (value): Linear(in_features=768, out_features=768, bias=True)\n",
       "            (dropout): Dropout(p=0.1, inplace=False)\n",
       "          )\n",
       "          (output): BertSelfOutput(\n",
       "            (dense): Linear(in_features=768, out_features=768, bias=True)\n",
       "            (LayerNorm): LayerNorm((768,), eps=1e-12, elementwise_affine=True)\n",
       "            (dropout): Dropout(p=0.1, inplace=False)\n",
       "          )\n",
       "        )\n",
       "        (intermediate): BertIntermediate(\n",
       "          (dense): Linear(in_features=768, out_features=3072, bias=True)\n",
       "        )\n",
       "        (output): BertOutput(\n",
       "          (dense): Linear(in_features=3072, out_features=768, bias=True)\n",
       "          (LayerNorm): LayerNorm((768,), eps=1e-12, elementwise_affine=True)\n",
       "          (dropout): Dropout(p=0.1, inplace=False)\n",
       "        )\n",
       "      )\n",
       "      (11): BertLayer(\n",
       "        (attention): BertAttention(\n",
       "          (self): BertSelfAttention(\n",
       "            (query): Linear(in_features=768, out_features=768, bias=True)\n",
       "            (key): Linear(in_features=768, out_features=768, bias=True)\n",
       "            (value): Linear(in_features=768, out_features=768, bias=True)\n",
       "            (dropout): Dropout(p=0.1, inplace=False)\n",
       "          )\n",
       "          (output): BertSelfOutput(\n",
       "            (dense): Linear(in_features=768, out_features=768, bias=True)\n",
       "            (LayerNorm): LayerNorm((768,), eps=1e-12, elementwise_affine=True)\n",
       "            (dropout): Dropout(p=0.1, inplace=False)\n",
       "          )\n",
       "        )\n",
       "        (intermediate): BertIntermediate(\n",
       "          (dense): Linear(in_features=768, out_features=3072, bias=True)\n",
       "        )\n",
       "        (output): BertOutput(\n",
       "          (dense): Linear(in_features=3072, out_features=768, bias=True)\n",
       "          (LayerNorm): LayerNorm((768,), eps=1e-12, elementwise_affine=True)\n",
       "          (dropout): Dropout(p=0.1, inplace=False)\n",
       "        )\n",
       "      )\n",
       "    )\n",
       "  )\n",
       "  (pooler): BertPooler(\n",
       "    (dense): Linear(in_features=768, out_features=768, bias=True)\n",
       "    (activation): Tanh()\n",
       "  )\n",
       ")"
      ]
     },
     "execution_count": 44,
     "metadata": {},
     "output_type": "execute_result"
    }
   ],
   "source": [
    "bert.train()"
   ]
  },
  {
   "cell_type": "code",
   "execution_count": 45,
   "id": "078c14a6-d3a7-4894-97e4-a522c975432f",
   "metadata": {},
   "outputs": [],
   "source": [
    "output1 = bert(**tokenized_corpus[:8]).pooler_output\n",
    "output2 = bert(**tokenized_corpus[:8]).pooler_output"
   ]
  },
  {
   "cell_type": "code",
   "execution_count": 78,
   "id": "eccc4c10-cb03-4e22-9e40-e87c91385056",
   "metadata": {},
   "outputs": [
    {
     "data": {
      "text/plain": [
       "torch.Size([8, 768])"
      ]
     },
     "execution_count": 78,
     "metadata": {},
     "output_type": "execute_result"
    }
   ],
   "source": [
    "output1.shape"
   ]
  },
  {
   "cell_type": "code",
   "execution_count": 48,
   "id": "dd699936-be93-4c6b-b135-d23d220893e3",
   "metadata": {},
   "outputs": [],
   "source": [
    "corr = output1@output2.transpose(0,1)"
   ]
  },
  {
   "cell_type": "code",
   "execution_count": 55,
   "id": "48c1f3da-4b39-4649-97c9-cf685e3645d2",
   "metadata": {},
   "outputs": [
    {
     "data": {
      "text/plain": [
       "tensor([[297.4918, 318.6734, 167.6713, 296.1940, 213.6166, 323.7787, 199.3153,\n",
       "         295.8680],\n",
       "        [261.3195, 281.3953, 215.0332, 282.9865, 225.3754, 307.4869, 221.2936,\n",
       "         282.1366],\n",
       "        [157.5238, 166.2443, 212.6556, 185.5733, 175.3278, 201.3529, 184.8230,\n",
       "         193.3990],\n",
       "        [273.4422, 311.7669, 198.9742, 308.6535, 230.3356, 330.9769, 222.9607,\n",
       "         314.0715],\n",
       "        [306.1982, 362.0233, 239.9843, 353.9535, 261.9241, 388.3650, 255.9556,\n",
       "         373.7408],\n",
       "        [283.5265, 321.2749, 208.2207, 314.8960, 235.7771, 344.4146, 230.8725,\n",
       "         324.1483],\n",
       "        [233.1920, 257.7081, 223.5415, 266.9668, 219.5132, 292.3654, 228.0817,\n",
       "         280.1246],\n",
       "        [312.9385, 378.4106, 239.3377, 366.3718, 262.3573, 401.9810, 257.0002,\n",
       "         390.0294]], grad_fn=<MmBackward>)"
      ]
     },
     "execution_count": 55,
     "metadata": {},
     "output_type": "execute_result"
    }
   ],
   "source": [
    "corr"
   ]
  },
  {
   "cell_type": "code",
   "execution_count": 79,
   "id": "48e8530c-a125-4851-8f71-c63479592592",
   "metadata": {},
   "outputs": [],
   "source": [
    "cos = torch.nn.CosineSimilarity(dim=1)"
   ]
  },
  {
   "cell_type": "code",
   "execution_count": 81,
   "id": "e0a78e06-1c30-48d1-9664-9218b5a98bf1",
   "metadata": {},
   "outputs": [
    {
     "data": {
      "text/plain": [
       "tensor([0.9601, 0.9308, 0.9698, 0.9888, 0.8885, 0.9836, 0.9834, 0.9695],\n",
       "       grad_fn=<DivBackward0>)"
      ]
     },
     "execution_count": 81,
     "metadata": {},
     "output_type": "execute_result"
    }
   ],
   "source": [
    "cos(output1,output2)"
   ]
  },
  {
   "cell_type": "code",
   "execution_count": 53,
   "id": "fbe472f6-488d-4f7f-9f74-a5194896c4fe",
   "metadata": {},
   "outputs": [],
   "source": [
    "def pearson(x1,x2):\n",
    "    cos = torch.nn.CosineSimilarity(dim=1, eps=1e-6)\n",
    "    pearson = cos(x1 - x1.mean(dim=1, keepdim=True), x2 - x2.mean(dim=1, keepdim=True))\n",
    "    return pearson"
   ]
  },
  {
   "cell_type": "code",
   "execution_count": 127,
   "id": "44936f3d-375b-4c75-a7b6-b298ae49867a",
   "metadata": {},
   "outputs": [],
   "source": [
    "def cos_sim(x1,x2):\n",
    "    batch_size = x1.shape[0]\n",
    "    x1n = x1/x1.norm(dim=1, keepdim=True)\n",
    "    x2n = x2/x2.norm(dim=1, keepdim=True)\n",
    "    cs = x1n@x2n.transpose(0,1)\n",
    "    return cs.div_(batch_size) "
   ]
  },
  {
   "cell_type": "code",
   "execution_count": 124,
   "id": "8b02f5cb-480b-423f-bce9-bb2c0bfba1a2",
   "metadata": {},
   "outputs": [],
   "source": [
    "def corr(x1,x2):\n",
    "    x1m = (x1 - x1.mean(dim=1, keepdim=True))/x1.norm(dim=1, keepdim=True)\n",
    "    x2m = (x2 - x2.mean(dim=1, keepdim=True))/x2.norm(dim=1, keepdim=True)\n",
    "    return x1m@x2m.transpose(0,1)"
   ]
  },
  {
   "cell_type": "code",
   "execution_count": 54,
   "id": "2b9dfa6b-86df-46d5-bc83-c4b1a7c39702",
   "metadata": {},
   "outputs": [
    {
     "data": {
      "text/plain": [
       "tensor([0.9601, 0.9310, 0.9699, 0.9888, 0.8887, 0.9836, 0.9834, 0.9696],\n",
       "       grad_fn=<DivBackward0>)"
      ]
     },
     "execution_count": 54,
     "metadata": {},
     "output_type": "execute_result"
    }
   ],
   "source": [
    "pearson(output1,output2)"
   ]
  },
  {
   "cell_type": "code",
   "execution_count": 125,
   "id": "05a3c7f4-eed4-4b7e-8e9a-0c486c74acdc",
   "metadata": {},
   "outputs": [
    {
     "data": {
      "text/plain": [
       "tensor([[0.9594, 0.9581, 0.5748, 0.9170, 0.8239, 0.9170, 0.7567, 0.8829],\n",
       "        [0.9265, 0.9303, 0.8097, 0.9632, 0.9555, 0.9574, 0.9232, 0.9255],\n",
       "        [0.6769, 0.6664, 0.9697, 0.7655, 0.9006, 0.7598, 0.9340, 0.7689],\n",
       "        [0.9120, 0.9695, 0.7052, 0.9883, 0.9188, 0.9695, 0.8753, 0.9693],\n",
       "        [0.8681, 0.9570, 0.7233, 0.9635, 0.8883, 0.9671, 0.8543, 0.9806],\n",
       "        [0.9216, 0.9738, 0.7191, 0.9827, 0.9166, 0.9832, 0.8832, 0.9750],\n",
       "        [0.8548, 0.8810, 0.8698, 0.9394, 0.9620, 0.9411, 0.9834, 0.9500],\n",
       "        [0.8401, 0.9471, 0.6831, 0.9443, 0.8425, 0.9478, 0.8123, 0.9690]],\n",
       "       grad_fn=<MmBackward>)"
      ]
     },
     "execution_count": 125,
     "metadata": {},
     "output_type": "execute_result"
    }
   ],
   "source": [
    "corr(output1,output2)"
   ]
  },
  {
   "cell_type": "code",
   "execution_count": 111,
   "id": "b77730fa-6f86-48da-ad7b-cc1dcd30f4c8",
   "metadata": {},
   "outputs": [],
   "source": [
    "cs = cos_sim(output1,output2)"
   ]
  },
  {
   "cell_type": "code",
   "execution_count": 120,
   "id": "4835bd37-3ac9-4390-a1ac-67de420306e1",
   "metadata": {},
   "outputs": [
    {
     "data": {
      "text/plain": [
       "tensor(0.0027, grad_fn=<MeanBackward0>)"
      ]
     },
     "execution_count": 120,
     "metadata": {},
     "output_type": "execute_result"
    }
   ],
   "source": [
    "torch.diagonal(cs).add_(-1).pow_(2).mean()"
   ]
  },
  {
   "cell_type": "code",
   "execution_count": 114,
   "id": "bb2602e6-7d32-4c5e-92e1-de2f5db4d47b",
   "metadata": {},
   "outputs": [],
   "source": [
    "def off_diagonal(x):\n",
    "    # return a flattened view of the off-diagonal elements of a square matrix\n",
    "    n, m = x.shape\n",
    "    assert n == m\n",
    "    return x.flatten()[:-1].view(n - 1, n + 1)[:, 1:].flatten()"
   ]
  },
  {
   "cell_type": "code",
   "execution_count": 119,
   "id": "ba1f4cdd-2581-4593-9812-f254f7f32941",
   "metadata": {},
   "outputs": [
    {
     "data": {
      "text/plain": [
       "tensor(0.7813, grad_fn=<MeanBackward0>)"
      ]
     },
     "execution_count": 119,
     "metadata": {},
     "output_type": "execute_result"
    }
   ],
   "source": [
    "off_diagonal(cs).pow_(2).mean()"
   ]
  },
  {
   "cell_type": "code",
   "execution_count": 117,
   "id": "9ee86f5f-89a4-4519-9a67-78bf0ecff998",
   "metadata": {},
   "outputs": [
    {
     "data": {
      "text/plain": [
       "tensor([[0.9601, 0.9592, 0.5743, 0.9175, 0.8242, 0.9176, 0.7565, 0.8833],\n",
       "        [0.9268, 0.9308, 0.8094, 0.9634, 0.9556, 0.9577, 0.9231, 0.9257],\n",
       "        [0.6768, 0.6662, 0.9698, 0.7654, 0.9006, 0.7597, 0.9340, 0.7688],\n",
       "        [0.9126, 0.9704, 0.7048, 0.9888, 0.9190, 0.9700, 0.8752, 0.9697],\n",
       "        [0.8688, 0.9580, 0.7227, 0.9640, 0.8885, 0.9677, 0.8542, 0.9811],\n",
       "        [0.9221, 0.9745, 0.7187, 0.9830, 0.9167, 0.9836, 0.8831, 0.9753],\n",
       "        [0.8549, 0.8811, 0.8698, 0.9394, 0.9620, 0.9412, 0.9834, 0.9500],\n",
       "        [0.8408, 0.9483, 0.6825, 0.9449, 0.8427, 0.9485, 0.8122, 0.9695]],\n",
       "       grad_fn=<MmBackward>)"
      ]
     },
     "execution_count": 117,
     "metadata": {},
     "output_type": "execute_result"
    }
   ],
   "source": [
    "cs"
   ]
  },
  {
   "cell_type": "code",
   "execution_count": 126,
   "id": "7d3964ba-88e3-4953-a926-e0ced980386a",
   "metadata": {},
   "outputs": [
    {
     "data": {
      "text/plain": [
       "tensor([[ 6.7735e-04,  1.0337e-03, -5.1188e-04,  5.3900e-04,  2.0713e-04,\n",
       "          5.6118e-04, -1.3322e-04,  4.8608e-04],\n",
       "        [ 3.0065e-04,  4.5884e-04, -2.2721e-04,  2.3913e-04,  9.1970e-05,\n",
       "          2.4921e-04, -5.9068e-05,  2.1565e-04],\n",
       "        [-9.8884e-05, -1.5086e-04,  7.4685e-05, -7.8738e-05, -3.0160e-05,\n",
       "         -8.1837e-05,  1.9312e-05, -7.0930e-05],\n",
       "        [ 5.7793e-04,  8.8149e-04, -4.3654e-04,  4.5967e-04,  1.7667e-04,\n",
       "          4.7892e-04, -1.1361e-04,  4.1479e-04],\n",
       "        [ 7.0310e-04,  1.0729e-03, -5.3120e-04,  5.5945e-04,  2.1493e-04,\n",
       "          5.8240e-04, -1.3834e-04,  5.0473e-04],\n",
       "        [ 4.7928e-04,  7.3081e-04, -3.6192e-04,  3.8117e-04,  1.4645e-04,\n",
       "          3.9679e-04, -9.4116e-05,  3.4386e-04],\n",
       "        [ 4.4465e-05,  6.7830e-05, -3.3677e-05,  3.5465e-05,  1.3709e-05,\n",
       "          3.6895e-05, -8.8215e-06,  3.1829e-05],\n",
       "        [ 7.6663e-04,  1.1697e-03, -5.7912e-04,  6.0982e-04,  2.3437e-04,\n",
       "          6.3515e-04, -1.5086e-04,  5.4997e-04]], grad_fn=<SubBackward0>)"
      ]
     },
     "execution_count": 126,
     "metadata": {},
     "output_type": "execute_result"
    }
   ],
   "source": [
    "cos_sim(output1,output2)-corr(output1,output2)"
   ]
  },
  {
   "cell_type": "code",
   "execution_count": 133,
   "id": "7ed34184-def9-467f-b282-f2c757492c23",
   "metadata": {},
   "outputs": [
    {
     "data": {
      "text/plain": [
       "tensor([[0.1200, 0.1199, 0.0718, 0.1147, 0.1030, 0.1147, 0.0946, 0.1104],\n",
       "        [0.1159, 0.1164, 0.1012, 0.1204, 0.1194, 0.1197, 0.1154, 0.1157],\n",
       "        [0.0846, 0.0833, 0.1212, 0.0957, 0.1126, 0.0950, 0.1168, 0.0961],\n",
       "        [0.1141, 0.1213, 0.0881, 0.1236, 0.1149, 0.1212, 0.1094, 0.1212],\n",
       "        [0.1086, 0.1198, 0.0903, 0.1205, 0.1111, 0.1210, 0.1068, 0.1226],\n",
       "        [0.1153, 0.1218, 0.0898, 0.1229, 0.1146, 0.1230, 0.1104, 0.1219],\n",
       "        [0.1069, 0.1101, 0.1087, 0.1174, 0.1203, 0.1176, 0.1229, 0.1188],\n",
       "        [0.1051, 0.1185, 0.0853, 0.1181, 0.1053, 0.1186, 0.1015, 0.1212]],\n",
       "       grad_fn=<DivBackward0>)"
      ]
     },
     "execution_count": 133,
     "metadata": {},
     "output_type": "execute_result"
    }
   ],
   "source": [
    "cos_sim(output1,output2)"
   ]
  },
  {
   "cell_type": "code",
   "execution_count": 137,
   "id": "ff7f37a5-ffdd-4056-a54a-a5599f385c77",
   "metadata": {},
   "outputs": [
    {
     "data": {
      "text/plain": [
       "tensor([0.9592, 0.5743, 0.9175, 0.8242, 0.9176, 0.7565, 0.8833, 0.9268, 0.8094,\n",
       "        0.9634, 0.9556, 0.9577, 0.9231, 0.9257, 0.6768, 0.6662, 0.7654, 0.9006,\n",
       "        0.7597, 0.9340, 0.7688, 0.9126, 0.9704, 0.7048, 0.9190, 0.9700, 0.8752,\n",
       "        0.9697, 0.8688, 0.9580, 0.7227, 0.9640, 0.9677, 0.8542, 0.9811, 0.9221,\n",
       "        0.9745, 0.7187, 0.9830, 0.9167, 0.8831, 0.9753, 0.8549, 0.8811, 0.8698,\n",
       "        0.9394, 0.9620, 0.9412, 0.9500, 0.8408, 0.9483, 0.6825, 0.9449, 0.8427,\n",
       "        0.9485, 0.8122], grad_fn=<UnsafeViewBackward>)"
      ]
     },
     "execution_count": 137,
     "metadata": {},
     "output_type": "execute_result"
    }
   ],
   "source": [
    "off_diagonal(cs)"
   ]
  },
  {
   "cell_type": "code",
   "execution_count": 136,
   "id": "8d111ea8-c2d8-4f5f-bf7d-e14ca6d89957",
   "metadata": {},
   "outputs": [
    {
     "data": {
      "text/plain": [
       "tensor([0.1199, 0.0718, 0.1147, 0.1030, 0.1147, 0.0946, 0.1104, 0.1159, 0.1012,\n",
       "        0.1204, 0.1194, 0.1197, 0.1154, 0.1157, 0.0846, 0.0833, 0.0957, 0.1126,\n",
       "        0.0950, 0.1168, 0.0961, 0.1141, 0.1213, 0.0881, 0.1149, 0.1212, 0.1094,\n",
       "        0.1212, 0.1086, 0.1198, 0.0903, 0.1205, 0.1210, 0.1068, 0.1226, 0.1153,\n",
       "        0.1218, 0.0898, 0.1229, 0.1146, 0.1104, 0.1219, 0.1069, 0.1101, 0.1087,\n",
       "        0.1174, 0.1203, 0.1176, 0.1188, 0.1051, 0.1185, 0.0853, 0.1181, 0.1053,\n",
       "        0.1186, 0.1015], grad_fn=<UnsafeViewBackward>)"
      ]
     },
     "execution_count": 136,
     "metadata": {},
     "output_type": "execute_result"
    }
   ],
   "source": [
    "off_diagonal(cos_sim(output1,output2))"
   ]
  },
  {
   "cell_type": "code",
   "execution_count": null,
   "id": "a6364dc9-1360-450f-a466-5fd25e74ded4",
   "metadata": {},
   "outputs": [],
   "source": []
  }
 ],
 "metadata": {
  "kernelspec": {
   "display_name": "Python 3",
   "language": "python",
   "name": "python3"
  },
  "language_info": {
   "codemirror_mode": {
    "name": "ipython",
    "version": 3
   },
   "file_extension": ".py",
   "mimetype": "text/x-python",
   "name": "python",
   "nbconvert_exporter": "python",
   "pygments_lexer": "ipython3",
   "version": "3.8.10"
  }
 },
 "nbformat": 4,
 "nbformat_minor": 5
}
